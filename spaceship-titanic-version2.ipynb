{
 "cells": [
  {
   "cell_type": "code",
   "execution_count": 1,
   "id": "1abe2050",
   "metadata": {
    "_cell_guid": "b1076dfc-b9ad-4769-8c92-a6c4dae69d19",
    "_uuid": "8f2839f25d086af736a60e9eeb907d3b93b6e0e5",
    "execution": {
     "iopub.execute_input": "2023-03-24T23:36:59.633818Z",
     "iopub.status.busy": "2023-03-24T23:36:59.632838Z",
     "iopub.status.idle": "2023-03-24T23:36:59.648235Z",
     "shell.execute_reply": "2023-03-24T23:36:59.647094Z"
    },
    "papermill": {
     "duration": 0.039616,
     "end_time": "2023-03-24T23:36:59.651091",
     "exception": false,
     "start_time": "2023-03-24T23:36:59.611475",
     "status": "completed"
    },
    "tags": []
   },
   "outputs": [
    {
     "name": "stdout",
     "output_type": "stream",
     "text": [
      "/kaggle/input/spaceship-titanic/sample_submission.csv\n",
      "/kaggle/input/spaceship-titanic/train.csv\n",
      "/kaggle/input/spaceship-titanic/test.csv\n"
     ]
    }
   ],
   "source": [
    "# This Python 3 environment comes with many helpful analytics libraries installed\n",
    "# It is defined by the kaggle/python Docker image: https://github.com/kaggle/docker-python\n",
    "# For example, here's several helpful packages to load\n",
    "\n",
    "import numpy as np # linear algebra\n",
    "import pandas as pd # data processing, CSV file I/O (e.g. pd.read_csv)\n",
    "\n",
    "# Input data files are available in the read-only \"../input/\" directory\n",
    "# For example, running this (by clicking run or pressing Shift+Enter) will list all files under the input directory\n",
    "\n",
    "import os\n",
    "for dirname, _, filenames in os.walk('/kaggle/input'):\n",
    "    for filename in filenames:\n",
    "        print(os.path.join(dirname, filename))\n",
    "\n",
    "# You can write up to 20GB to the current directory (/kaggle/working/) that gets preserved as output when you create a version using \"Save & Run All\" \n",
    "# You can also write temporary files to /kaggle/temp/, but they won't be saved outside of the current session"
   ]
  },
  {
   "cell_type": "code",
   "execution_count": 2,
   "id": "1534f307",
   "metadata": {
    "execution": {
     "iopub.execute_input": "2023-03-24T23:36:59.688740Z",
     "iopub.status.busy": "2023-03-24T23:36:59.688346Z",
     "iopub.status.idle": "2023-03-24T23:37:01.756626Z",
     "shell.execute_reply": "2023-03-24T23:37:01.755457Z"
    },
    "papermill": {
     "duration": 2.089645,
     "end_time": "2023-03-24T23:37:01.759355",
     "exception": false,
     "start_time": "2023-03-24T23:36:59.669710",
     "status": "completed"
    },
    "tags": []
   },
   "outputs": [],
   "source": [
    "import pandas as pd\n",
    "import numpy as np\n",
    "\n",
    "import matplotlib.pyplot as plt\n",
    "import seaborn as sns\n",
    "\n",
    "from sklearn.experimental import enable_iterative_imputer\n",
    "from sklearn.impute import (SimpleImputer, IterativeImputer)\n",
    "from sklearn.preprocessing import (OneHotEncoder, StandardScaler)\n",
    "from sklearn.model_selection import (GridSearchCV, cross_val_score)\n",
    "from sklearn.feature_selection import SequentialFeatureSelector\n",
    "from sklearn.cluster import KMeans\n",
    "from category_encoders import MEstimateEncoder\n",
    "from imblearn.over_sampling import SMOTE\n",
    "from catboost import CatBoostClassifier"
   ]
  },
  {
   "cell_type": "code",
   "execution_count": 3,
   "id": "aa4ba219",
   "metadata": {
    "execution": {
     "iopub.execute_input": "2023-03-24T23:37:01.800009Z",
     "iopub.status.busy": "2023-03-24T23:37:01.799616Z",
     "iopub.status.idle": "2023-03-24T23:37:01.938791Z",
     "shell.execute_reply": "2023-03-24T23:37:01.937424Z"
    },
    "papermill": {
     "duration": 0.161981,
     "end_time": "2023-03-24T23:37:01.941736",
     "exception": false,
     "start_time": "2023-03-24T23:37:01.779755",
     "status": "completed"
    },
    "tags": []
   },
   "outputs": [
    {
     "name": "stdout",
     "output_type": "stream",
     "text": [
      "<class 'pandas.core.frame.DataFrame'>\n",
      "RangeIndex: 12970 entries, 0 to 12969\n",
      "Data columns (total 13 columns):\n",
      " #   Column        Non-Null Count  Dtype  \n",
      "---  ------        --------------  -----  \n",
      " 0   PassengerId   12970 non-null  object \n",
      " 1   HomePlanet    12682 non-null  object \n",
      " 2   CryoSleep     12660 non-null  object \n",
      " 3   Cabin         12671 non-null  object \n",
      " 4   Destination   12696 non-null  object \n",
      " 5   Age           12700 non-null  float64\n",
      " 6   VIP           12674 non-null  object \n",
      " 7   RoomService   12707 non-null  float64\n",
      " 8   FoodCourt     12681 non-null  float64\n",
      " 9   ShoppingMall  12664 non-null  float64\n",
      " 10  Spa           12686 non-null  float64\n",
      " 11  VRDeck        12702 non-null  float64\n",
      " 12  Name          12676 non-null  object \n",
      "dtypes: float64(6), object(7)\n",
      "memory usage: 1.3+ MB\n"
     ]
    }
   ],
   "source": [
    "full_df = pd.read_csv('/kaggle/input/spaceship-titanic/train.csv')\n",
    "test_df = pd.read_csv('/kaggle/input/spaceship-titanic/test.csv')\n",
    "\n",
    "test_pass_id = test_df.PassengerId.copy()\n",
    "\n",
    "# Keep max index that will be used to back split training and test data\n",
    "X_max_index = full_df.shape[0]\n",
    "\n",
    "# Separate features and target\n",
    "y = full_df.Transported.astype(int)\n",
    "\n",
    "df = full_df.drop(['Transported'], axis=1).copy()\n",
    "df = pd.concat([df, test_df], axis=0).reset_index(drop=True)\n",
    "\n",
    "\n",
    "df.info()"
   ]
  },
  {
   "cell_type": "code",
   "execution_count": null,
   "id": "f22d53fc",
   "metadata": {
    "papermill": {
     "duration": 0.017661,
     "end_time": "2023-03-24T23:37:01.977798",
     "exception": false,
     "start_time": "2023-03-24T23:37:01.960137",
     "status": "completed"
    },
    "tags": []
   },
   "outputs": [],
   "source": []
  },
  {
   "cell_type": "code",
   "execution_count": 4,
   "id": "f6717d12",
   "metadata": {
    "execution": {
     "iopub.execute_input": "2023-03-24T23:37:02.015180Z",
     "iopub.status.busy": "2023-03-24T23:37:02.014773Z",
     "iopub.status.idle": "2023-03-24T23:37:02.086454Z",
     "shell.execute_reply": "2023-03-24T23:37:02.085584Z"
    },
    "papermill": {
     "duration": 0.093397,
     "end_time": "2023-03-24T23:37:02.088986",
     "exception": false,
     "start_time": "2023-03-24T23:37:01.995589",
     "status": "completed"
    },
    "tags": []
   },
   "outputs": [],
   "source": [
    "df['Pass_group'] = df.PassengerId.str.split('_').str[0]\n",
    "df.Pass_group = df.Pass_group.astype(int)\n",
    "df['Lastname'] = df.Name.str.split(' ').str[1]\n",
    "df[['Deck', 'Cab_num', 'Deck_side']] = df.Cabin.str.split('/', expand=True)\n",
    "df.Cab_num = df.Cab_num.astype(float)"
   ]
  },
  {
   "cell_type": "code",
   "execution_count": 5,
   "id": "31e3638f",
   "metadata": {
    "execution": {
     "iopub.execute_input": "2023-03-24T23:37:02.126791Z",
     "iopub.status.busy": "2023-03-24T23:37:02.125774Z",
     "iopub.status.idle": "2023-03-24T23:37:03.293009Z",
     "shell.execute_reply": "2023-03-24T23:37:03.291775Z"
    },
    "papermill": {
     "duration": 1.189304,
     "end_time": "2023-03-24T23:37:03.296287",
     "exception": false,
     "start_time": "2023-03-24T23:37:02.106983",
     "status": "completed"
    },
    "tags": []
   },
   "outputs": [
    {
     "data": {
      "image/png": "[encoded data removed]",
      "text/plain": [
       "<Figure size 1500x700 with 6 Axes>"
      ]
     },
     "metadata": {},
     "output_type": "display_data"
    }
   ],
   "source": [
    "import matplotlib.pyplot as plt\n",
    "fig, axes = plt.subplots(2, 3, sharey=True, figsize=(15, 7))\n",
    "df.plot.scatter(x='RoomService', y='Age', ax=axes[0, 0])\n",
    "df.plot.scatter(x='FoodCourt', y='Age', ax=axes[0, 1])\n",
    "df.plot.scatter(x='ShoppingMall', y='Age', ax=axes[0, 2])\n",
    "df.plot.scatter(x='Spa', y='Age', ax=axes[1, 0])\n",
    "df.plot.scatter(x='VRDeck', y='Age', ax=axes[1, 1])\n",
    "plt.show()"
   ]
  },
  {
   "cell_type": "code",
   "execution_count": 6,
   "id": "6b6b556e",
   "metadata": {
    "execution": {
     "iopub.execute_input": "2023-03-24T23:37:03.335796Z",
     "iopub.status.busy": "2023-03-24T23:37:03.335151Z",
     "iopub.status.idle": "2023-03-24T23:37:03.345597Z",
     "shell.execute_reply": "2023-03-24T23:37:03.344530Z"
    },
    "papermill": {
     "duration": 0.03277,
     "end_time": "2023-03-24T23:37:03.347886",
     "exception": false,
     "start_time": "2023-03-24T23:37:03.315116",
     "status": "completed"
    },
    "tags": []
   },
   "outputs": [],
   "source": [
    "df.loc[df.RoomService.gt(9000), 'RoomService'] = 9000\n",
    "\n",
    "# Cap FoodCourt at 22000\n",
    "df.loc[df.FoodCourt.gt(22000), 'FoodCourt'] = 22000\n",
    "\n",
    "# Cap ShoppingMall at 11000\n",
    "df.loc[df.ShoppingMall.gt(11000), 'ShoppingMall'] = 11000\n",
    "\n",
    "# Cap Spa at 17000\n",
    "df.loc[df.Spa.gt(17000), 'Spa'] = 17000\n",
    "\n",
    "# Cap VRDeck at 21000\n",
    "df.loc[df.VRDeck.gt(21000), 'VRDeck'] = 21000\n"
   ]
  },
  {
   "cell_type": "code",
   "execution_count": 7,
   "id": "f47a5a62",
   "metadata": {
    "execution": {
     "iopub.execute_input": "2023-03-24T23:37:03.387609Z",
     "iopub.status.busy": "2023-03-24T23:37:03.387193Z",
     "iopub.status.idle": "2023-03-24T23:37:03.405355Z",
     "shell.execute_reply": "2023-03-24T23:37:03.404314Z"
    },
    "papermill": {
     "duration": 0.04096,
     "end_time": "2023-03-24T23:37:03.407679",
     "exception": false,
     "start_time": "2023-03-24T23:37:03.366719",
     "status": "completed"
    },
    "tags": []
   },
   "outputs": [
    {
     "data": {
      "text/plain": [
       "RoomService     0.0\n",
       "FoodCourt       0.0\n",
       "ShoppingMall    0.0\n",
       "Spa             0.0\n",
       "VRDeck          0.0\n",
       "dtype: float64"
      ]
     },
     "execution_count": 7,
     "metadata": {},
     "output_type": "execute_result"
    }
   ],
   "source": [
    "amenities = ['RoomService', 'FoodCourt', 'ShoppingMall', 'Spa', 'VRDeck']\n",
    "\n",
    "df.loc[df.CryoSleep.eq(True), amenities].sum()"
   ]
  },
  {
   "cell_type": "code",
   "execution_count": 8,
   "id": "0b0b6794",
   "metadata": {
    "execution": {
     "iopub.execute_input": "2023-03-24T23:37:03.446789Z",
     "iopub.status.busy": "2023-03-24T23:37:03.446036Z",
     "iopub.status.idle": "2023-03-24T23:37:03.458713Z",
     "shell.execute_reply": "2023-03-24T23:37:03.457532Z"
    },
    "papermill": {
     "duration": 0.034905,
     "end_time": "2023-03-24T23:37:03.461083",
     "exception": false,
     "start_time": "2023-03-24T23:37:03.426178",
     "status": "completed"
    },
    "tags": []
   },
   "outputs": [],
   "source": [
    "df.loc[df.CryoSleep.eq(True), amenities]=0\n"
   ]
  },
  {
   "cell_type": "code",
   "execution_count": 9,
   "id": "4e4ed1ac",
   "metadata": {
    "execution": {
     "iopub.execute_input": "2023-03-24T23:37:03.500905Z",
     "iopub.status.busy": "2023-03-24T23:37:03.500490Z",
     "iopub.status.idle": "2023-03-24T23:37:03.510566Z",
     "shell.execute_reply": "2023-03-24T23:37:03.509606Z"
    },
    "papermill": {
     "duration": 0.0324,
     "end_time": "2023-03-24T23:37:03.512729",
     "exception": false,
     "start_time": "2023-03-24T23:37:03.480329",
     "status": "completed"
    },
    "tags": []
   },
   "outputs": [],
   "source": [
    "zero_amenities = df[amenities].sum(axis=1).eq(0)\n",
    "df.loc[zero_amenities, amenities] =0"
   ]
  },
  {
   "cell_type": "code",
   "execution_count": 10,
   "id": "512c473f",
   "metadata": {
    "execution": {
     "iopub.execute_input": "2023-03-24T23:37:03.552302Z",
     "iopub.status.busy": "2023-03-24T23:37:03.551920Z",
     "iopub.status.idle": "2023-03-24T23:37:03.565201Z",
     "shell.execute_reply": "2023-03-24T23:37:03.564374Z"
    },
    "papermill": {
     "duration": 0.0357,
     "end_time": "2023-03-24T23:37:03.567501",
     "exception": false,
     "start_time": "2023-03-24T23:37:03.531801",
     "status": "completed"
    },
    "tags": []
   },
   "outputs": [],
   "source": [
    "for i in amenities: \n",
    "    df.loc[df[i].isna(), i] = df.loc[df[i].gt(0), i].median()\n"
   ]
  },
  {
   "cell_type": "code",
   "execution_count": 11,
   "id": "6b8597d0",
   "metadata": {
    "execution": {
     "iopub.execute_input": "2023-03-24T23:37:03.606723Z",
     "iopub.status.busy": "2023-03-24T23:37:03.606335Z",
     "iopub.status.idle": "2023-03-24T23:37:03.635025Z",
     "shell.execute_reply": "2023-03-24T23:37:03.633965Z"
    },
    "papermill": {
     "duration": 0.051016,
     "end_time": "2023-03-24T23:37:03.637210",
     "exception": false,
     "start_time": "2023-03-24T23:37:03.586194",
     "status": "completed"
    },
    "tags": []
   },
   "outputs": [
    {
     "data": {
      "text/html": [
       "<div>\n",
       "<style scoped>\n",
       "    .dataframe tbody tr th:only-of-type {\n",
       "        vertical-align: middle;\n",
       "    }\n",
       "\n",
       "    .dataframe tbody tr th {\n",
       "        vertical-align: top;\n",
       "    }\n",
       "\n",
       "    .dataframe thead th {\n",
       "        text-align: right;\n",
       "    }\n",
       "</style>\n",
       "<table border=\"1\" class=\"dataframe\">\n",
       "  <thead>\n",
       "    <tr style=\"text-align: right;\">\n",
       "      <th></th>\n",
       "      <th>PassengerId</th>\n",
       "      <th>HomePlanet</th>\n",
       "      <th>CryoSleep</th>\n",
       "      <th>Cabin</th>\n",
       "      <th>Destination</th>\n",
       "      <th>Age</th>\n",
       "      <th>VIP</th>\n",
       "      <th>RoomService</th>\n",
       "      <th>FoodCourt</th>\n",
       "      <th>ShoppingMall</th>\n",
       "      <th>Spa</th>\n",
       "      <th>VRDeck</th>\n",
       "      <th>Name</th>\n",
       "      <th>Pass_group</th>\n",
       "      <th>Lastname</th>\n",
       "      <th>Deck</th>\n",
       "      <th>Cab_num</th>\n",
       "      <th>Deck_side</th>\n",
       "      <th>Total_expenses</th>\n",
       "    </tr>\n",
       "  </thead>\n",
       "  <tbody>\n",
       "    <tr>\n",
       "      <th>0</th>\n",
       "      <td>0001_01</td>\n",
       "      <td>Europa</td>\n",
       "      <td>False</td>\n",
       "      <td>B/0/P</td>\n",
       "      <td>TRAPPIST-1e</td>\n",
       "      <td>39.0</td>\n",
       "      <td>False</td>\n",
       "      <td>0.0</td>\n",
       "      <td>0.0</td>\n",
       "      <td>0.0</td>\n",
       "      <td>0.0</td>\n",
       "      <td>0.0</td>\n",
       "      <td>Maham Ofracculy</td>\n",
       "      <td>1</td>\n",
       "      <td>Ofracculy</td>\n",
       "      <td>B</td>\n",
       "      <td>0.0</td>\n",
       "      <td>P</td>\n",
       "      <td>0.0</td>\n",
       "    </tr>\n",
       "    <tr>\n",
       "      <th>1</th>\n",
       "      <td>0002_01</td>\n",
       "      <td>Earth</td>\n",
       "      <td>False</td>\n",
       "      <td>F/0/S</td>\n",
       "      <td>TRAPPIST-1e</td>\n",
       "      <td>24.0</td>\n",
       "      <td>False</td>\n",
       "      <td>109.0</td>\n",
       "      <td>9.0</td>\n",
       "      <td>25.0</td>\n",
       "      <td>549.0</td>\n",
       "      <td>44.0</td>\n",
       "      <td>Juanna Vines</td>\n",
       "      <td>2</td>\n",
       "      <td>Vines</td>\n",
       "      <td>F</td>\n",
       "      <td>0.0</td>\n",
       "      <td>S</td>\n",
       "      <td>736.0</td>\n",
       "    </tr>\n",
       "    <tr>\n",
       "      <th>2</th>\n",
       "      <td>0003_01</td>\n",
       "      <td>Europa</td>\n",
       "      <td>False</td>\n",
       "      <td>A/0/S</td>\n",
       "      <td>TRAPPIST-1e</td>\n",
       "      <td>58.0</td>\n",
       "      <td>True</td>\n",
       "      <td>43.0</td>\n",
       "      <td>3576.0</td>\n",
       "      <td>0.0</td>\n",
       "      <td>6715.0</td>\n",
       "      <td>49.0</td>\n",
       "      <td>Altark Susent</td>\n",
       "      <td>3</td>\n",
       "      <td>Susent</td>\n",
       "      <td>A</td>\n",
       "      <td>0.0</td>\n",
       "      <td>S</td>\n",
       "      <td>10383.0</td>\n",
       "    </tr>\n",
       "    <tr>\n",
       "      <th>3</th>\n",
       "      <td>0003_02</td>\n",
       "      <td>Europa</td>\n",
       "      <td>False</td>\n",
       "      <td>A/0/S</td>\n",
       "      <td>TRAPPIST-1e</td>\n",
       "      <td>33.0</td>\n",
       "      <td>False</td>\n",
       "      <td>0.0</td>\n",
       "      <td>1283.0</td>\n",
       "      <td>371.0</td>\n",
       "      <td>3329.0</td>\n",
       "      <td>193.0</td>\n",
       "      <td>Solam Susent</td>\n",
       "      <td>3</td>\n",
       "      <td>Susent</td>\n",
       "      <td>A</td>\n",
       "      <td>0.0</td>\n",
       "      <td>S</td>\n",
       "      <td>5176.0</td>\n",
       "    </tr>\n",
       "    <tr>\n",
       "      <th>4</th>\n",
       "      <td>0004_01</td>\n",
       "      <td>Earth</td>\n",
       "      <td>False</td>\n",
       "      <td>F/1/S</td>\n",
       "      <td>TRAPPIST-1e</td>\n",
       "      <td>16.0</td>\n",
       "      <td>False</td>\n",
       "      <td>303.0</td>\n",
       "      <td>70.0</td>\n",
       "      <td>151.0</td>\n",
       "      <td>565.0</td>\n",
       "      <td>2.0</td>\n",
       "      <td>Willy Santantines</td>\n",
       "      <td>4</td>\n",
       "      <td>Santantines</td>\n",
       "      <td>F</td>\n",
       "      <td>1.0</td>\n",
       "      <td>S</td>\n",
       "      <td>1091.0</td>\n",
       "    </tr>\n",
       "  </tbody>\n",
       "</table>\n",
       "</div>"
      ],
      "text/plain": [
       "  PassengerId HomePlanet CryoSleep  Cabin  Destination   Age    VIP  \\\n",
       "0     0001_01     Europa     False  B/0/P  TRAPPIST-1e  39.0  False   \n",
       "1     0002_01      Earth     False  F/0/S  TRAPPIST-1e  24.0  False   \n",
       "2     0003_01     Europa     False  A/0/S  TRAPPIST-1e  58.0   True   \n",
       "3     0003_02     Europa     False  A/0/S  TRAPPIST-1e  33.0  False   \n",
       "4     0004_01      Earth     False  F/1/S  TRAPPIST-1e  16.0  False   \n",
       "\n",
       "   RoomService  FoodCourt  ShoppingMall     Spa  VRDeck               Name  \\\n",
       "0          0.0        0.0           0.0     0.0     0.0    Maham Ofracculy   \n",
       "1        109.0        9.0          25.0   549.0    44.0       Juanna Vines   \n",
       "2         43.0     3576.0           0.0  6715.0    49.0      Altark Susent   \n",
       "3          0.0     1283.0         371.0  3329.0   193.0       Solam Susent   \n",
       "4        303.0       70.0         151.0   565.0     2.0  Willy Santantines   \n",
       "\n",
       "   Pass_group     Lastname Deck  Cab_num Deck_side  Total_expenses  \n",
       "0           1    Ofracculy    B      0.0         P             0.0  \n",
       "1           2        Vines    F      0.0         S           736.0  \n",
       "2           3       Susent    A      0.0         S         10383.0  \n",
       "3           3       Susent    A      0.0         S          5176.0  \n",
       "4           4  Santantines    F      1.0         S          1091.0  "
      ]
     },
     "execution_count": 11,
     "metadata": {},
     "output_type": "execute_result"
    }
   ],
   "source": [
    "df['Total_expenses'] = df[amenities].sum(axis=1)\n",
    "df.head()"
   ]
  },
  {
   "cell_type": "code",
   "execution_count": 12,
   "id": "f8ced211",
   "metadata": {
    "execution": {
     "iopub.execute_input": "2023-03-24T23:37:03.677585Z",
     "iopub.status.busy": "2023-03-24T23:37:03.677192Z",
     "iopub.status.idle": "2023-03-24T23:37:03.683838Z",
     "shell.execute_reply": "2023-03-24T23:37:03.683079Z"
    },
    "papermill": {
     "duration": 0.028612,
     "end_time": "2023-03-24T23:37:03.685597",
     "exception": false,
     "start_time": "2023-03-24T23:37:03.656985",
     "status": "completed"
    },
    "tags": []
   },
   "outputs": [],
   "source": [
    "df.loc[(df.CryoSleep.isna() & df.Total_expenses.gt(0)), 'CryoSleep'] = False"
   ]
  },
  {
   "cell_type": "code",
   "execution_count": 13,
   "id": "dcf2fa14",
   "metadata": {
    "execution": {
     "iopub.execute_input": "2023-03-24T23:37:03.727409Z",
     "iopub.status.busy": "2023-03-24T23:37:03.726385Z",
     "iopub.status.idle": "2023-03-24T23:37:03.737014Z",
     "shell.execute_reply": "2023-03-24T23:37:03.736303Z"
    },
    "papermill": {
     "duration": 0.032389,
     "end_time": "2023-03-24T23:37:03.738916",
     "exception": false,
     "start_time": "2023-03-24T23:37:03.706527",
     "status": "completed"
    },
    "tags": []
   },
   "outputs": [
    {
     "data": {
      "text/plain": [
       "VIP\n",
       "False     0.0\n",
       "True     18.0\n",
       "Name: Age, dtype: float64"
      ]
     },
     "execution_count": 13,
     "metadata": {},
     "output_type": "execute_result"
    }
   ],
   "source": [
    "df.groupby('VIP').Age.min()"
   ]
  },
  {
   "cell_type": "code",
   "execution_count": 14,
   "id": "9ef42c56",
   "metadata": {
    "execution": {
     "iopub.execute_input": "2023-03-24T23:37:03.779074Z",
     "iopub.status.busy": "2023-03-24T23:37:03.778225Z",
     "iopub.status.idle": "2023-03-24T23:37:03.795195Z",
     "shell.execute_reply": "2023-03-24T23:37:03.794071Z"
    },
    "papermill": {
     "duration": 0.039655,
     "end_time": "2023-03-24T23:37:03.797657",
     "exception": false,
     "start_time": "2023-03-24T23:37:03.758002",
     "status": "completed"
    },
    "tags": []
   },
   "outputs": [
    {
     "data": {
      "text/plain": [
       "HomePlanet  Destination    VIP  \n",
       "Earth       55 Cancri e    False     956\n",
       "            PSO J318.5-22  False    1043\n",
       "            TRAPPIST-1e    False    4568\n",
       "Europa      55 Cancri e    False    1195\n",
       "                           True       83\n",
       "            PSO J318.5-22  False      16\n",
       "                           True       13\n",
       "            TRAPPIST-1e    False    1618\n",
       "                           True       78\n",
       "Mars        55 Cancri e    False     290\n",
       "            PSO J318.5-22  False      55\n",
       "                           True        9\n",
       "            TRAPPIST-1e    False    2122\n",
       "                           True       81\n",
       "Name: VIP, dtype: int64"
      ]
     },
     "execution_count": 14,
     "metadata": {},
     "output_type": "execute_result"
    }
   ],
   "source": [
    "df.groupby(['HomePlanet', 'Destination']).VIP.value_counts()"
   ]
  },
  {
   "cell_type": "code",
   "execution_count": 15,
   "id": "a21f741e",
   "metadata": {
    "execution": {
     "iopub.execute_input": "2023-03-24T23:37:03.838589Z",
     "iopub.status.busy": "2023-03-24T23:37:03.838193Z",
     "iopub.status.idle": "2023-03-24T23:37:03.846115Z",
     "shell.execute_reply": "2023-03-24T23:37:03.845131Z"
    },
    "papermill": {
     "duration": 0.030892,
     "end_time": "2023-03-24T23:37:03.848154",
     "exception": false,
     "start_time": "2023-03-24T23:37:03.817262",
     "status": "completed"
    },
    "tags": []
   },
   "outputs": [],
   "source": [
    "df.loc[(df.VIP.isna()&(df.Age<18)),'VIP']=False"
   ]
  },
  {
   "cell_type": "code",
   "execution_count": 16,
   "id": "83a19f03",
   "metadata": {
    "execution": {
     "iopub.execute_input": "2023-03-24T23:37:03.889803Z",
     "iopub.status.busy": "2023-03-24T23:37:03.889130Z",
     "iopub.status.idle": "2023-03-24T23:37:03.896861Z",
     "shell.execute_reply": "2023-03-24T23:37:03.896102Z"
    },
    "papermill": {
     "duration": 0.030906,
     "end_time": "2023-03-24T23:37:03.898984",
     "exception": false,
     "start_time": "2023-03-24T23:37:03.868078",
     "status": "completed"
    },
    "tags": []
   },
   "outputs": [],
   "source": [
    "df.loc[(df.VIP.isna()&(df.HomePlanet=='Earth')),'VIP']=False"
   ]
  },
  {
   "cell_type": "code",
   "execution_count": 17,
   "id": "da70bb2d",
   "metadata": {
    "execution": {
     "iopub.execute_input": "2023-03-24T23:37:03.941702Z",
     "iopub.status.busy": "2023-03-24T23:37:03.940987Z",
     "iopub.status.idle": "2023-03-24T23:37:03.950449Z",
     "shell.execute_reply": "2023-03-24T23:37:03.949358Z"
    },
    "papermill": {
     "duration": 0.033292,
     "end_time": "2023-03-24T23:37:03.952917",
     "exception": false,
     "start_time": "2023-03-24T23:37:03.919625",
     "status": "completed"
    },
    "tags": []
   },
   "outputs": [],
   "source": [
    "df.loc[(df.VIP.isna()&(df.HomePlanet=='Mars')&(df.Destination=='55 Cancri e')),'VIP']=False"
   ]
  },
  {
   "cell_type": "code",
   "execution_count": null,
   "id": "f4cbeb9a",
   "metadata": {
    "papermill": {
     "duration": 0.019343,
     "end_time": "2023-03-24T23:37:03.992086",
     "exception": false,
     "start_time": "2023-03-24T23:37:03.972743",
     "status": "completed"
    },
    "tags": []
   },
   "outputs": [],
   "source": []
  },
  {
   "cell_type": "code",
   "execution_count": 18,
   "id": "c4d9dccf",
   "metadata": {
    "execution": {
     "iopub.execute_input": "2023-03-24T23:37:04.032237Z",
     "iopub.status.busy": "2023-03-24T23:37:04.031808Z",
     "iopub.status.idle": "2023-03-24T23:37:04.039359Z",
     "shell.execute_reply": "2023-03-24T23:37:04.038620Z"
    },
    "papermill": {
     "duration": 0.029974,
     "end_time": "2023-03-24T23:37:04.041323",
     "exception": false,
     "start_time": "2023-03-24T23:37:04.011349",
     "status": "completed"
    },
    "tags": []
   },
   "outputs": [],
   "source": [
    "df.loc[(df.VIP.isna() \n",
    "        & (df.Deck.isin(['G', 'T']))), 'VIP'] = False"
   ]
  },
  {
   "cell_type": "code",
   "execution_count": 19,
   "id": "21cb1982",
   "metadata": {
    "execution": {
     "iopub.execute_input": "2023-03-24T23:37:04.082062Z",
     "iopub.status.busy": "2023-03-24T23:37:04.081668Z",
     "iopub.status.idle": "2023-03-24T23:37:04.091377Z",
     "shell.execute_reply": "2023-03-24T23:37:04.090349Z"
    },
    "papermill": {
     "duration": 0.0327,
     "end_time": "2023-03-24T23:37:04.093610",
     "exception": false,
     "start_time": "2023-03-24T23:37:04.060910",
     "status": "completed"
    },
    "tags": []
   },
   "outputs": [],
   "source": [
    "df.loc[(df.HomePlanet.isna() \n",
    "        & df.VIP.eq(True) \n",
    "        & df.Destination.eq('55 Cancri e')), 'HomePlanet'] = 'Europa'"
   ]
  },
  {
   "cell_type": "code",
   "execution_count": 20,
   "id": "825dd62c",
   "metadata": {
    "execution": {
     "iopub.execute_input": "2023-03-24T23:37:04.134067Z",
     "iopub.status.busy": "2023-03-24T23:37:04.133592Z",
     "iopub.status.idle": "2023-03-24T23:37:04.145353Z",
     "shell.execute_reply": "2023-03-24T23:37:04.144272Z"
    },
    "papermill": {
     "duration": 0.034273,
     "end_time": "2023-03-24T23:37:04.147437",
     "exception": false,
     "start_time": "2023-03-24T23:37:04.113164",
     "status": "completed"
    },
    "tags": []
   },
   "outputs": [
    {
     "data": {
      "text/plain": [
       "0"
      ]
     },
     "execution_count": 20,
     "metadata": {},
     "output_type": "execute_result"
    }
   ],
   "source": [
    "df.groupby('Pass_group').HomePlanet.nunique().gt(1).sum()"
   ]
  },
  {
   "cell_type": "code",
   "execution_count": 21,
   "id": "861c4bb4",
   "metadata": {
    "execution": {
     "iopub.execute_input": "2023-03-24T23:37:04.187911Z",
     "iopub.status.busy": "2023-03-24T23:37:04.187479Z",
     "iopub.status.idle": "2023-03-24T23:37:04.197591Z",
     "shell.execute_reply": "2023-03-24T23:37:04.196605Z"
    },
    "papermill": {
     "duration": 0.032849,
     "end_time": "2023-03-24T23:37:04.199661",
     "exception": false,
     "start_time": "2023-03-24T23:37:04.166812",
     "status": "completed"
    },
    "tags": []
   },
   "outputs": [
    {
     "data": {
      "text/plain": [
       "0        True\n",
       "1        True\n",
       "2        True\n",
       "3        True\n",
       "4        True\n",
       "         ... \n",
       "12965    True\n",
       "12966    True\n",
       "12967    True\n",
       "12968    True\n",
       "12969    True\n",
       "Length: 12970, dtype: bool"
      ]
     },
     "execution_count": 21,
     "metadata": {},
     "output_type": "execute_result"
    }
   ],
   "source": [
    "present_values = ~df.Pass_group.isna() & ~df.HomePlanet.isna()\n",
    "present_values"
   ]
  },
  {
   "cell_type": "code",
   "execution_count": 22,
   "id": "5a88bae9",
   "metadata": {
    "execution": {
     "iopub.execute_input": "2023-03-24T23:37:04.239913Z",
     "iopub.status.busy": "2023-03-24T23:37:04.239489Z",
     "iopub.status.idle": "2023-03-24T23:37:04.263484Z",
     "shell.execute_reply": "2023-03-24T23:37:04.262390Z"
    },
    "papermill": {
     "duration": 0.047118,
     "end_time": "2023-03-24T23:37:04.266074",
     "exception": false,
     "start_time": "2023-03-24T23:37:04.218956",
     "status": "completed"
    },
    "tags": []
   },
   "outputs": [],
   "source": [
    "group_home_map = (df.loc[present_values, ['Pass_group', 'HomePlanet']]\n",
    "            .set_index('Pass_group').to_dict()['HomePlanet'])\n"
   ]
  },
  {
   "cell_type": "code",
   "execution_count": 23,
   "id": "e27d0f2b",
   "metadata": {
    "execution": {
     "iopub.execute_input": "2023-03-24T23:37:04.307190Z",
     "iopub.status.busy": "2023-03-24T23:37:04.306794Z",
     "iopub.status.idle": "2023-03-24T23:37:04.318592Z",
     "shell.execute_reply": "2023-03-24T23:37:04.317518Z"
    },
    "papermill": {
     "duration": 0.034941,
     "end_time": "2023-03-24T23:37:04.320846",
     "exception": false,
     "start_time": "2023-03-24T23:37:04.285905",
     "status": "completed"
    },
    "tags": []
   },
   "outputs": [],
   "source": [
    "df.loc[df.HomePlanet.isna(), 'HomePlanet'] = df.Pass_group.map(group_home_map)"
   ]
  },
  {
   "cell_type": "code",
   "execution_count": 24,
   "id": "f70a1571",
   "metadata": {
    "execution": {
     "iopub.execute_input": "2023-03-24T23:37:04.361870Z",
     "iopub.status.busy": "2023-03-24T23:37:04.361445Z",
     "iopub.status.idle": "2023-03-24T23:37:04.369703Z",
     "shell.execute_reply": "2023-03-24T23:37:04.368690Z"
    },
    "papermill": {
     "duration": 0.031247,
     "end_time": "2023-03-24T23:37:04.371767",
     "exception": false,
     "start_time": "2023-03-24T23:37:04.340520",
     "status": "completed"
    },
    "tags": []
   },
   "outputs": [
    {
     "data": {
      "text/plain": [
       "156"
      ]
     },
     "execution_count": 24,
     "metadata": {},
     "output_type": "execute_result"
    }
   ],
   "source": [
    "len(df.loc[df.HomePlanet.isna(), 'HomePlanet'])"
   ]
  },
  {
   "cell_type": "code",
   "execution_count": 25,
   "id": "920e28c1",
   "metadata": {
    "execution": {
     "iopub.execute_input": "2023-03-24T23:37:04.412239Z",
     "iopub.status.busy": "2023-03-24T23:37:04.411865Z",
     "iopub.status.idle": "2023-03-24T23:37:04.419771Z",
     "shell.execute_reply": "2023-03-24T23:37:04.418788Z"
    },
    "papermill": {
     "duration": 0.030385,
     "end_time": "2023-03-24T23:37:04.421745",
     "exception": false,
     "start_time": "2023-03-24T23:37:04.391360",
     "status": "completed"
    },
    "tags": []
   },
   "outputs": [
    {
     "data": {
      "text/plain": [
       "PassengerId              0210_01\n",
       "HomePlanet                   NaN\n",
       "CryoSleep                   True\n",
       "Cabin                      D/6/P\n",
       "Destination          55 Cancri e\n",
       "Age                         24.0\n",
       "VIP                        False\n",
       "RoomService                  0.0\n",
       "FoodCourt                    0.0\n",
       "ShoppingMall                 0.0\n",
       "Spa                          0.0\n",
       "VRDeck                       0.0\n",
       "Name              Arraid Inicont\n",
       "Pass_group                   210\n",
       "Lastname                 Inicont\n",
       "Deck                           D\n",
       "Cab_num                      6.0\n",
       "Deck_side                      P\n",
       "Total_expenses               0.0\n",
       "Name: 186, dtype: object"
      ]
     },
     "execution_count": 25,
     "metadata": {},
     "output_type": "execute_result"
    }
   ],
   "source": [
    "df.iloc[186]"
   ]
  },
  {
   "cell_type": "code",
   "execution_count": 26,
   "id": "cbff88b5",
   "metadata": {
    "execution": {
     "iopub.execute_input": "2023-03-24T23:37:04.462472Z",
     "iopub.status.busy": "2023-03-24T23:37:04.462104Z",
     "iopub.status.idle": "2023-03-24T23:37:04.474432Z",
     "shell.execute_reply": "2023-03-24T23:37:04.473430Z"
    },
    "papermill": {
     "duration": 0.034982,
     "end_time": "2023-03-24T23:37:04.476432",
     "exception": false,
     "start_time": "2023-03-24T23:37:04.441450",
     "status": "completed"
    },
    "tags": []
   },
   "outputs": [
    {
     "data": {
      "text/plain": [
       "HomePlanet  Deck\n",
       "Earth       G       3731\n",
       "            F       2437\n",
       "            E        589\n",
       "Europa      B       1137\n",
       "            C       1096\n",
       "            A        352\n",
       "            D        302\n",
       "            E        199\n",
       "            T         10\n",
       "Mars        F       1742\n",
       "            E        515\n",
       "            D        410\n",
       "Name: Deck, dtype: int64"
      ]
     },
     "execution_count": 26,
     "metadata": {},
     "output_type": "execute_result"
    }
   ],
   "source": [
    "df.groupby('HomePlanet').Deck.value_counts()\n"
   ]
  },
  {
   "cell_type": "code",
   "execution_count": 27,
   "id": "7a23ddf8",
   "metadata": {
    "execution": {
     "iopub.execute_input": "2023-03-24T23:37:04.517292Z",
     "iopub.status.busy": "2023-03-24T23:37:04.516918Z",
     "iopub.status.idle": "2023-03-24T23:37:04.524151Z",
     "shell.execute_reply": "2023-03-24T23:37:04.523425Z"
    },
    "papermill": {
     "duration": 0.029931,
     "end_time": "2023-03-24T23:37:04.526088",
     "exception": false,
     "start_time": "2023-03-24T23:37:04.496157",
     "status": "completed"
    },
    "tags": []
   },
   "outputs": [],
   "source": [
    "df.loc[(df.HomePlanet.isna() \n",
    "        & df.Deck.isin(['T', 'A', 'B', 'C',])), 'HomePlanet'] = 'Europa'"
   ]
  },
  {
   "cell_type": "code",
   "execution_count": 28,
   "id": "2ca59b32",
   "metadata": {
    "execution": {
     "iopub.execute_input": "2023-03-24T23:37:04.567124Z",
     "iopub.status.busy": "2023-03-24T23:37:04.566743Z",
     "iopub.status.idle": "2023-03-24T23:37:04.574956Z",
     "shell.execute_reply": "2023-03-24T23:37:04.573976Z"
    },
    "papermill": {
     "duration": 0.031185,
     "end_time": "2023-03-24T23:37:04.577169",
     "exception": false,
     "start_time": "2023-03-24T23:37:04.545984",
     "status": "completed"
    },
    "tags": []
   },
   "outputs": [],
   "source": [
    "df.loc[(df.HomePlanet.isna() & df.Deck.eq('G')), 'HomePlanet'] = 'Earth'"
   ]
  },
  {
   "cell_type": "code",
   "execution_count": 29,
   "id": "b0c25590",
   "metadata": {
    "execution": {
     "iopub.execute_input": "2023-03-24T23:37:04.617895Z",
     "iopub.status.busy": "2023-03-24T23:37:04.617496Z",
     "iopub.status.idle": "2023-03-24T23:37:04.625738Z",
     "shell.execute_reply": "2023-03-24T23:37:04.624700Z"
    },
    "papermill": {
     "duration": 0.031027,
     "end_time": "2023-03-24T23:37:04.627715",
     "exception": false,
     "start_time": "2023-03-24T23:37:04.596688",
     "status": "completed"
    },
    "tags": []
   },
   "outputs": [],
   "source": [
    "df.loc[(df.HomePlanet.isna() & df.Deck.eq('G')), 'HomePlanet'] = 'Earth'"
   ]
  },
  {
   "cell_type": "code",
   "execution_count": 30,
   "id": "ada7785d",
   "metadata": {
    "execution": {
     "iopub.execute_input": "2023-03-24T23:37:04.668991Z",
     "iopub.status.busy": "2023-03-24T23:37:04.668641Z",
     "iopub.status.idle": "2023-03-24T23:37:04.682866Z",
     "shell.execute_reply": "2023-03-24T23:37:04.681865Z"
    },
    "papermill": {
     "duration": 0.036698,
     "end_time": "2023-03-24T23:37:04.684683",
     "exception": false,
     "start_time": "2023-03-24T23:37:04.647985",
     "status": "completed"
    },
    "tags": []
   },
   "outputs": [
    {
     "data": {
      "text/plain": [
       "0"
      ]
     },
     "execution_count": 30,
     "metadata": {},
     "output_type": "execute_result"
    }
   ],
   "source": [
    "df.groupby('Lastname').HomePlanet.nunique().gt(1).sum()\n"
   ]
  },
  {
   "cell_type": "code",
   "execution_count": 31,
   "id": "28bbf3d3",
   "metadata": {
    "execution": {
     "iopub.execute_input": "2023-03-24T23:37:04.726099Z",
     "iopub.status.busy": "2023-03-24T23:37:04.725674Z",
     "iopub.status.idle": "2023-03-24T23:37:04.741968Z",
     "shell.execute_reply": "2023-03-24T23:37:04.740847Z"
    },
    "papermill": {
     "duration": 0.039687,
     "end_time": "2023-03-24T23:37:04.744043",
     "exception": false,
     "start_time": "2023-03-24T23:37:04.704356",
     "status": "completed"
    },
    "tags": []
   },
   "outputs": [
    {
     "data": {
      "text/plain": [
       "PassengerId         0\n",
       "HomePlanet         93\n",
       "CryoSleep         136\n",
       "Cabin             299\n",
       "Destination       274\n",
       "Age               270\n",
       "VIP               121\n",
       "RoomService         0\n",
       "FoodCourt           0\n",
       "ShoppingMall        0\n",
       "Spa                 0\n",
       "VRDeck              0\n",
       "Name              294\n",
       "Pass_group          0\n",
       "Lastname          294\n",
       "Deck              299\n",
       "Cab_num           299\n",
       "Deck_side         299\n",
       "Total_expenses      0\n",
       "dtype: int64"
      ]
     },
     "execution_count": 31,
     "metadata": {},
     "output_type": "execute_result"
    }
   ],
   "source": [
    "df.isna().sum()"
   ]
  },
  {
   "cell_type": "code",
   "execution_count": 32,
   "id": "25d53cd3",
   "metadata": {
    "execution": {
     "iopub.execute_input": "2023-03-24T23:37:04.786595Z",
     "iopub.status.busy": "2023-03-24T23:37:04.786180Z",
     "iopub.status.idle": "2023-03-24T23:37:04.817248Z",
     "shell.execute_reply": "2023-03-24T23:37:04.816148Z"
    },
    "papermill": {
     "duration": 0.055461,
     "end_time": "2023-03-24T23:37:04.819790",
     "exception": false,
     "start_time": "2023-03-24T23:37:04.764329",
     "status": "completed"
    },
    "tags": []
   },
   "outputs": [],
   "source": [
    "present_values = ~df.Lastname.isna() & ~df.HomePlanet.isna()\n",
    "lastname_home_map = (df.loc[present_values, ['Lastname', 'HomePlanet']]\n",
    "            .set_index('Lastname').to_dict()['HomePlanet'])\n",
    "\n",
    "# Impute HomePlanet from dictionary\n",
    "df.loc[df.HomePlanet.isna(), 'HomePlanet'] = df.Lastname.map(lastname_home_map)"
   ]
  },
  {
   "cell_type": "code",
   "execution_count": 33,
   "id": "2eacce25",
   "metadata": {
    "execution": {
     "iopub.execute_input": "2023-03-24T23:37:04.863017Z",
     "iopub.status.busy": "2023-03-24T23:37:04.862587Z",
     "iopub.status.idle": "2023-03-24T23:37:04.872642Z",
     "shell.execute_reply": "2023-03-24T23:37:04.871617Z"
    },
    "papermill": {
     "duration": 0.034662,
     "end_time": "2023-03-24T23:37:04.874993",
     "exception": false,
     "start_time": "2023-03-24T23:37:04.840331",
     "status": "completed"
    },
    "tags": []
   },
   "outputs": [],
   "source": [
    "df.loc[((df.VIP == True) & df.Age.isna()), 'Age'] = df.loc[(df.VIP == True), 'Age'].median()"
   ]
  },
  {
   "cell_type": "code",
   "execution_count": 34,
   "id": "9322d32b",
   "metadata": {
    "execution": {
     "iopub.execute_input": "2023-03-24T23:37:04.918124Z",
     "iopub.status.busy": "2023-03-24T23:37:04.917318Z",
     "iopub.status.idle": "2023-03-24T23:37:04.926457Z",
     "shell.execute_reply": "2023-03-24T23:37:04.925339Z"
    },
    "papermill": {
     "duration": 0.033481,
     "end_time": "2023-03-24T23:37:04.928628",
     "exception": false,
     "start_time": "2023-03-24T23:37:04.895147",
     "status": "completed"
    },
    "tags": []
   },
   "outputs": [],
   "source": [
    "df.loc[(df.Age.isna() \n",
    "        & df.Total_expenses.gt(0)), 'Age'] = df.loc[df.Total_expenses.gt(0), 'Age'].median()"
   ]
  },
  {
   "cell_type": "code",
   "execution_count": 35,
   "id": "2d991cd0",
   "metadata": {
    "execution": {
     "iopub.execute_input": "2023-03-24T23:37:04.970694Z",
     "iopub.status.busy": "2023-03-24T23:37:04.970295Z",
     "iopub.status.idle": "2023-03-24T23:37:04.981437Z",
     "shell.execute_reply": "2023-03-24T23:37:04.980288Z"
    },
    "papermill": {
     "duration": 0.03477,
     "end_time": "2023-03-24T23:37:04.983776",
     "exception": false,
     "start_time": "2023-03-24T23:37:04.949006",
     "status": "completed"
    },
    "tags": []
   },
   "outputs": [],
   "source": [
    "df.loc[(df.Age.isna() \n",
    "        & df.Total_expenses.eq(0)\n",
    "        & df.CryoSleep.eq(False)), 'Age'] = df.loc[(df.Total_expenses.eq(0) \n",
    "                                                    & df.CryoSleep.eq(False)), 'Age'].median()"
   ]
  },
  {
   "cell_type": "code",
   "execution_count": 36,
   "id": "7fa881ed",
   "metadata": {
    "execution": {
     "iopub.execute_input": "2023-03-24T23:37:05.026144Z",
     "iopub.status.busy": "2023-03-24T23:37:05.025636Z",
     "iopub.status.idle": "2023-03-24T23:37:05.032910Z",
     "shell.execute_reply": "2023-03-24T23:37:05.031629Z"
    },
    "papermill": {
     "duration": 0.030784,
     "end_time": "2023-03-24T23:37:05.034933",
     "exception": false,
     "start_time": "2023-03-24T23:37:05.004149",
     "status": "completed"
    },
    "tags": []
   },
   "outputs": [],
   "source": [
    "df.Age.fillna(df.Age.median(), inplace=True)"
   ]
  },
  {
   "cell_type": "code",
   "execution_count": 37,
   "id": "da270868",
   "metadata": {
    "execution": {
     "iopub.execute_input": "2023-03-24T23:37:05.077138Z",
     "iopub.status.busy": "2023-03-24T23:37:05.076756Z",
     "iopub.status.idle": "2023-03-24T23:37:05.098286Z",
     "shell.execute_reply": "2023-03-24T23:37:05.097201Z"
    },
    "papermill": {
     "duration": 0.045763,
     "end_time": "2023-03-24T23:37:05.100847",
     "exception": false,
     "start_time": "2023-03-24T23:37:05.055084",
     "status": "completed"
    },
    "tags": []
   },
   "outputs": [],
   "source": [
    "df.Cab_num.fillna(df.Cab_num.median(), inplace=True)\n",
    "\n",
    "Group_members = df.Pass_group.value_counts().to_dict()\n",
    "df['Group_members'] = df.Pass_group.map(Group_members)"
   ]
  },
  {
   "cell_type": "code",
   "execution_count": 38,
   "id": "35172ca7",
   "metadata": {
    "execution": {
     "iopub.execute_input": "2023-03-24T23:37:05.142207Z",
     "iopub.status.busy": "2023-03-24T23:37:05.141819Z",
     "iopub.status.idle": "2023-03-24T23:37:05.167303Z",
     "shell.execute_reply": "2023-03-24T23:37:05.166253Z"
    },
    "papermill": {
     "duration": 0.048513,
     "end_time": "2023-03-24T23:37:05.169423",
     "exception": false,
     "start_time": "2023-03-24T23:37:05.120910",
     "status": "completed"
    },
    "tags": []
   },
   "outputs": [],
   "source": [
    "Cabin_members = df.Cabin.value_counts().to_dict()\n",
    "df['Cabin_members'] = df.Cabin.map(Cabin_members)\n",
    "df.Cabin_members.fillna(df.Cabin_members.mean(), inplace=True)"
   ]
  },
  {
   "cell_type": "code",
   "execution_count": null,
   "id": "aec5af16",
   "metadata": {
    "papermill": {
     "duration": 0.020023,
     "end_time": "2023-03-24T23:37:05.209620",
     "exception": false,
     "start_time": "2023-03-24T23:37:05.189597",
     "status": "completed"
    },
    "tags": []
   },
   "outputs": [],
   "source": []
  },
  {
   "cell_type": "code",
   "execution_count": 39,
   "id": "ca300802",
   "metadata": {
    "execution": {
     "iopub.execute_input": "2023-03-24T23:37:05.251674Z",
     "iopub.status.busy": "2023-03-24T23:37:05.251255Z",
     "iopub.status.idle": "2023-03-24T23:37:05.267329Z",
     "shell.execute_reply": "2023-03-24T23:37:05.266613Z"
    },
    "papermill": {
     "duration": 0.039389,
     "end_time": "2023-03-24T23:37:05.269204",
     "exception": false,
     "start_time": "2023-03-24T23:37:05.229815",
     "status": "completed"
    },
    "tags": []
   },
   "outputs": [
    {
     "data": {
      "text/plain": [
       "PassengerId         0\n",
       "HomePlanet         10\n",
       "CryoSleep         136\n",
       "Cabin             299\n",
       "Destination       274\n",
       "Age                 0\n",
       "VIP               121\n",
       "RoomService         0\n",
       "FoodCourt           0\n",
       "ShoppingMall        0\n",
       "Spa                 0\n",
       "VRDeck              0\n",
       "Name              294\n",
       "Pass_group          0\n",
       "Lastname          294\n",
       "Deck              299\n",
       "Cab_num             0\n",
       "Deck_side         299\n",
       "Total_expenses      0\n",
       "Group_members       0\n",
       "Cabin_members       0\n",
       "dtype: int64"
      ]
     },
     "execution_count": 39,
     "metadata": {},
     "output_type": "execute_result"
    }
   ],
   "source": [
    "\n",
    "df.isna().sum()"
   ]
  },
  {
   "cell_type": "code",
   "execution_count": 40,
   "id": "b3db5b5c",
   "metadata": {
    "execution": {
     "iopub.execute_input": "2023-03-24T23:37:05.311916Z",
     "iopub.status.busy": "2023-03-24T23:37:05.311525Z",
     "iopub.status.idle": "2023-03-24T23:37:05.341293Z",
     "shell.execute_reply": "2023-03-24T23:37:05.340400Z"
    },
    "papermill": {
     "duration": 0.05428,
     "end_time": "2023-03-24T23:37:05.343828",
     "exception": false,
     "start_time": "2023-03-24T23:37:05.289548",
     "status": "completed"
    },
    "tags": []
   },
   "outputs": [],
   "source": [
    "X = df[:X_max_index]\n",
    "test_df = df[X_max_index:]\n",
    "full_df = pd.concat([X, y], axis=1).copy()\n",
    "deck_total_pass = full_df.groupby('Deck').Deck.count()\n",
    "\n",
    "deck_total_transported = full_df.groupby('Deck').Transported.sum()\n",
    "Deck_transp_ratio = (deck_total_transported / deck_total_pass).to_dict()\n",
    "\n",
    "df['Deck_transp_ratio'] = df.Deck.map(Deck_transp_ratio)\n",
    "df.Deck_transp_ratio.fillna(df.Deck_transp_ratio.mean(), inplace=True)"
   ]
  },
  {
   "cell_type": "code",
   "execution_count": 41,
   "id": "035fc53c",
   "metadata": {
    "execution": {
     "iopub.execute_input": "2023-03-24T23:37:05.386770Z",
     "iopub.status.busy": "2023-03-24T23:37:05.386392Z",
     "iopub.status.idle": "2023-03-24T23:37:05.398490Z",
     "shell.execute_reply": "2023-03-24T23:37:05.397630Z"
    },
    "papermill": {
     "duration": 0.035999,
     "end_time": "2023-03-24T23:37:05.400512",
     "exception": false,
     "start_time": "2023-03-24T23:37:05.364513",
     "status": "completed"
    },
    "tags": []
   },
   "outputs": [],
   "source": [
    "# Total passengers by Deck_side\n",
    "deck_side_total = full_df.groupby('Deck_side').Deck.count()\n",
    "\n",
    "# Total Transported by Deck_side\n",
    "deck_side_transported = full_df.groupby('Deck_side').Transported.sum()\n",
    "\n",
    "# Dictionary with Deck_side_transp_ratio\n",
    "Deck_side_transp_ratio = (deck_side_transported / deck_side_total).to_dict()\n",
    "\n",
    "# Create Deck_side_transp_ratio\n",
    "df['Deck_side_transp_ratio'] = df.Deck_side.map(Deck_side_transp_ratio)\n",
    "df.Deck_side_transp_ratio.fillna(df.Deck_side_transp_ratio.mean(), inplace=True)"
   ]
  },
  {
   "cell_type": "code",
   "execution_count": 42,
   "id": "cd3ba291",
   "metadata": {
    "execution": {
     "iopub.execute_input": "2023-03-24T23:37:05.442778Z",
     "iopub.status.busy": "2023-03-24T23:37:05.442141Z",
     "iopub.status.idle": "2023-03-24T23:37:05.452210Z",
     "shell.execute_reply": "2023-03-24T23:37:05.451186Z"
    },
    "papermill": {
     "duration": 0.033664,
     "end_time": "2023-03-24T23:37:05.454398",
     "exception": false,
     "start_time": "2023-03-24T23:37:05.420734",
     "status": "completed"
    },
    "tags": []
   },
   "outputs": [],
   "source": [
    "col_drop = ['PassengerId', 'Cabin', 'Name', 'Lastname']\n",
    "df = df.drop(col_drop, axis=1)"
   ]
  },
  {
   "cell_type": "code",
   "execution_count": null,
   "id": "5a64e1bf",
   "metadata": {
    "papermill": {
     "duration": 0.019818,
     "end_time": "2023-03-24T23:37:05.494300",
     "exception": false,
     "start_time": "2023-03-24T23:37:05.474482",
     "status": "completed"
    },
    "tags": []
   },
   "outputs": [],
   "source": []
  },
  {
   "cell_type": "code",
   "execution_count": 43,
   "id": "6442807a",
   "metadata": {
    "execution": {
     "iopub.execute_input": "2023-03-24T23:37:05.535955Z",
     "iopub.status.busy": "2023-03-24T23:37:05.535566Z",
     "iopub.status.idle": "2023-03-24T23:37:05.549149Z",
     "shell.execute_reply": "2023-03-24T23:37:05.548144Z"
    },
    "papermill": {
     "duration": 0.036782,
     "end_time": "2023-03-24T23:37:05.551212",
     "exception": false,
     "start_time": "2023-03-24T23:37:05.514430",
     "status": "completed"
    },
    "tags": []
   },
   "outputs": [
    {
     "data": {
      "text/plain": [
       "HomePlanet                 10\n",
       "CryoSleep                 136\n",
       "Destination               274\n",
       "Age                         0\n",
       "VIP                       121\n",
       "RoomService                 0\n",
       "FoodCourt                   0\n",
       "ShoppingMall                0\n",
       "Spa                         0\n",
       "VRDeck                      0\n",
       "Pass_group                  0\n",
       "Deck                      299\n",
       "Cab_num                     0\n",
       "Deck_side                 299\n",
       "Total_expenses              0\n",
       "Group_members               0\n",
       "Cabin_members               0\n",
       "Deck_transp_ratio           0\n",
       "Deck_side_transp_ratio      0\n",
       "dtype: int64"
      ]
     },
     "execution_count": 43,
     "metadata": {},
     "output_type": "execute_result"
    }
   ],
   "source": [
    "df.isna().sum()"
   ]
  },
  {
   "cell_type": "code",
   "execution_count": 44,
   "id": "39b2d43d",
   "metadata": {
    "execution": {
     "iopub.execute_input": "2023-03-24T23:37:05.592733Z",
     "iopub.status.busy": "2023-03-24T23:37:05.592330Z",
     "iopub.status.idle": "2023-03-24T23:37:05.625218Z",
     "shell.execute_reply": "2023-03-24T23:37:05.624139Z"
    },
    "papermill": {
     "duration": 0.056932,
     "end_time": "2023-03-24T23:37:05.627982",
     "exception": false,
     "start_time": "2023-03-24T23:37:05.571050",
     "status": "completed"
    },
    "tags": []
   },
   "outputs": [],
   "source": [
    "categ_cols = list(df.select_dtypes(['object', 'category']).columns)\n",
    "cat_imputer = SimpleImputer(strategy='constant', fill_value='Missing')\n",
    "df_cat = pd.DataFrame(cat_imputer.fit_transform(df[categ_cols]), \n",
    "                      columns=df[categ_cols].columns)\n",
    "df_cat = pd.get_dummies(df_cat)"
   ]
  },
  {
   "cell_type": "code",
   "execution_count": 45,
   "id": "0356d98b",
   "metadata": {
    "execution": {
     "iopub.execute_input": "2023-03-24T23:37:05.671381Z",
     "iopub.status.busy": "2023-03-24T23:37:05.670985Z",
     "iopub.status.idle": "2023-03-24T23:37:05.677483Z",
     "shell.execute_reply": "2023-03-24T23:37:05.676496Z"
    },
    "papermill": {
     "duration": 0.0305,
     "end_time": "2023-03-24T23:37:05.679633",
     "exception": false,
     "start_time": "2023-03-24T23:37:05.649133",
     "status": "completed"
    },
    "tags": []
   },
   "outputs": [
    {
     "data": {
      "text/plain": [
       "['HomePlanet', 'CryoSleep', 'Destination', 'VIP', 'Deck', 'Deck_side']"
      ]
     },
     "execution_count": 45,
     "metadata": {},
     "output_type": "execute_result"
    }
   ],
   "source": [
    "categ_cols"
   ]
  },
  {
   "cell_type": "code",
   "execution_count": 46,
   "id": "5ee67028",
   "metadata": {
    "execution": {
     "iopub.execute_input": "2023-03-24T23:37:05.722932Z",
     "iopub.status.busy": "2023-03-24T23:37:05.722518Z",
     "iopub.status.idle": "2023-03-24T23:37:05.749471Z",
     "shell.execute_reply": "2023-03-24T23:37:05.748087Z"
    },
    "papermill": {
     "duration": 0.05209,
     "end_time": "2023-03-24T23:37:05.752335",
     "exception": false,
     "start_time": "2023-03-24T23:37:05.700245",
     "status": "completed"
    },
    "tags": []
   },
   "outputs": [
    {
     "name": "stdout",
     "output_type": "stream",
     "text": [
      "<class 'pandas.core.frame.DataFrame'>\n",
      "RangeIndex: 12970 entries, 0 to 12969\n",
      "Data columns (total 6 columns):\n",
      " #   Column       Non-Null Count  Dtype \n",
      "---  ------       --------------  ----- \n",
      " 0   HomePlanet   12970 non-null  object\n",
      " 1   CryoSleep    12970 non-null  object\n",
      " 2   Destination  12970 non-null  object\n",
      " 3   VIP          12970 non-null  object\n",
      " 4   Deck         12970 non-null  object\n",
      " 5   Deck_side    12970 non-null  object\n",
      "dtypes: object(6)\n",
      "memory usage: 608.1+ KB\n"
     ]
    }
   ],
   "source": [
    "pd.DataFrame(cat_imputer.fit_transform(df[categ_cols]), \n",
    "                      columns=df[categ_cols].columns).info()"
   ]
  },
  {
   "cell_type": "code",
   "execution_count": 47,
   "id": "ea5f34ed",
   "metadata": {
    "execution": {
     "iopub.execute_input": "2023-03-24T23:37:05.796735Z",
     "iopub.status.busy": "2023-03-24T23:37:05.796327Z",
     "iopub.status.idle": "2023-03-24T23:37:05.807147Z",
     "shell.execute_reply": "2023-03-24T23:37:05.806285Z"
    },
    "papermill": {
     "duration": 0.036321,
     "end_time": "2023-03-24T23:37:05.809634",
     "exception": false,
     "start_time": "2023-03-24T23:37:05.773313",
     "status": "completed"
    },
    "tags": []
   },
   "outputs": [
    {
     "data": {
      "text/plain": [
       "HomePlanet_Earth             0\n",
       "HomePlanet_Europa            0\n",
       "HomePlanet_Mars              0\n",
       "HomePlanet_Missing           0\n",
       "CryoSleep_False              0\n",
       "CryoSleep_True               0\n",
       "CryoSleep_Missing            0\n",
       "Destination_55 Cancri e      0\n",
       "Destination_Missing          0\n",
       "Destination_PSO J318.5-22    0\n",
       "Destination_TRAPPIST-1e      0\n",
       "VIP_False                    0\n",
       "VIP_True                     0\n",
       "VIP_Missing                  0\n",
       "Deck_A                       0\n",
       "Deck_B                       0\n",
       "Deck_C                       0\n",
       "Deck_D                       0\n",
       "Deck_E                       0\n",
       "Deck_F                       0\n",
       "Deck_G                       0\n",
       "Deck_Missing                 0\n",
       "Deck_T                       0\n",
       "Deck_side_Missing            0\n",
       "Deck_side_P                  0\n",
       "Deck_side_S                  0\n",
       "dtype: int64"
      ]
     },
     "execution_count": 47,
     "metadata": {},
     "output_type": "execute_result"
    }
   ],
   "source": [
    "df_cat.isna().sum()"
   ]
  },
  {
   "cell_type": "code",
   "execution_count": 48,
   "id": "637669c1",
   "metadata": {
    "execution": {
     "iopub.execute_input": "2023-03-24T23:37:05.855475Z",
     "iopub.status.busy": "2023-03-24T23:37:05.855103Z",
     "iopub.status.idle": "2023-03-24T23:37:05.869808Z",
     "shell.execute_reply": "2023-03-24T23:37:05.868809Z"
    },
    "papermill": {
     "duration": 0.04008,
     "end_time": "2023-03-24T23:37:05.872024",
     "exception": false,
     "start_time": "2023-03-24T23:37:05.831944",
     "status": "completed"
    },
    "tags": []
   },
   "outputs": [
    {
     "data": {
      "text/plain": [
       "HomePlanet                 10\n",
       "CryoSleep                 136\n",
       "Destination               274\n",
       "Age                         0\n",
       "VIP                       121\n",
       "RoomService                 0\n",
       "FoodCourt                   0\n",
       "ShoppingMall                0\n",
       "Spa                         0\n",
       "VRDeck                      0\n",
       "Pass_group                  0\n",
       "Deck                      299\n",
       "Cab_num                     0\n",
       "Deck_side                 299\n",
       "Total_expenses              0\n",
       "Group_members               0\n",
       "Cabin_members               0\n",
       "Deck_transp_ratio           0\n",
       "Deck_side_transp_ratio      0\n",
       "dtype: int64"
      ]
     },
     "execution_count": 48,
     "metadata": {},
     "output_type": "execute_result"
    }
   ],
   "source": [
    "df.isna().sum()"
   ]
  },
  {
   "cell_type": "code",
   "execution_count": 49,
   "id": "3fba064b",
   "metadata": {
    "execution": {
     "iopub.execute_input": "2023-03-24T23:37:05.917705Z",
     "iopub.status.busy": "2023-03-24T23:37:05.916657Z",
     "iopub.status.idle": "2023-03-24T23:37:05.935478Z",
     "shell.execute_reply": "2023-03-24T23:37:05.934328Z"
    },
    "papermill": {
     "duration": 0.043703,
     "end_time": "2023-03-24T23:37:05.937716",
     "exception": false,
     "start_time": "2023-03-24T23:37:05.894013",
     "status": "completed"
    },
    "tags": []
   },
   "outputs": [
    {
     "data": {
      "text/html": [
       "<div>\n",
       "<style scoped>\n",
       "    .dataframe tbody tr th:only-of-type {\n",
       "        vertical-align: middle;\n",
       "    }\n",
       "\n",
       "    .dataframe tbody tr th {\n",
       "        vertical-align: top;\n",
       "    }\n",
       "\n",
       "    .dataframe thead th {\n",
       "        text-align: right;\n",
       "    }\n",
       "</style>\n",
       "<table border=\"1\" class=\"dataframe\">\n",
       "  <thead>\n",
       "    <tr style=\"text-align: right;\">\n",
       "      <th></th>\n",
       "      <th>HomePlanet_Earth</th>\n",
       "      <th>HomePlanet_Europa</th>\n",
       "      <th>HomePlanet_Mars</th>\n",
       "      <th>HomePlanet_Missing</th>\n",
       "      <th>CryoSleep_False</th>\n",
       "      <th>CryoSleep_True</th>\n",
       "      <th>CryoSleep_Missing</th>\n",
       "      <th>Destination_55 Cancri e</th>\n",
       "      <th>Destination_Missing</th>\n",
       "      <th>Destination_PSO J318.5-22</th>\n",
       "      <th>...</th>\n",
       "      <th>Deck_C</th>\n",
       "      <th>Deck_D</th>\n",
       "      <th>Deck_E</th>\n",
       "      <th>Deck_F</th>\n",
       "      <th>Deck_G</th>\n",
       "      <th>Deck_Missing</th>\n",
       "      <th>Deck_T</th>\n",
       "      <th>Deck_side_Missing</th>\n",
       "      <th>Deck_side_P</th>\n",
       "      <th>Deck_side_S</th>\n",
       "    </tr>\n",
       "  </thead>\n",
       "  <tbody>\n",
       "    <tr>\n",
       "      <th>0</th>\n",
       "      <td>0</td>\n",
       "      <td>1</td>\n",
       "      <td>0</td>\n",
       "      <td>0</td>\n",
       "      <td>1</td>\n",
       "      <td>0</td>\n",
       "      <td>0</td>\n",
       "      <td>0</td>\n",
       "      <td>0</td>\n",
       "      <td>0</td>\n",
       "      <td>...</td>\n",
       "      <td>0</td>\n",
       "      <td>0</td>\n",
       "      <td>0</td>\n",
       "      <td>0</td>\n",
       "      <td>0</td>\n",
       "      <td>0</td>\n",
       "      <td>0</td>\n",
       "      <td>0</td>\n",
       "      <td>1</td>\n",
       "      <td>0</td>\n",
       "    </tr>\n",
       "    <tr>\n",
       "      <th>1</th>\n",
       "      <td>1</td>\n",
       "      <td>0</td>\n",
       "      <td>0</td>\n",
       "      <td>0</td>\n",
       "      <td>1</td>\n",
       "      <td>0</td>\n",
       "      <td>0</td>\n",
       "      <td>0</td>\n",
       "      <td>0</td>\n",
       "      <td>0</td>\n",
       "      <td>...</td>\n",
       "      <td>0</td>\n",
       "      <td>0</td>\n",
       "      <td>0</td>\n",
       "      <td>1</td>\n",
       "      <td>0</td>\n",
       "      <td>0</td>\n",
       "      <td>0</td>\n",
       "      <td>0</td>\n",
       "      <td>0</td>\n",
       "      <td>1</td>\n",
       "    </tr>\n",
       "    <tr>\n",
       "      <th>2</th>\n",
       "      <td>0</td>\n",
       "      <td>1</td>\n",
       "      <td>0</td>\n",
       "      <td>0</td>\n",
       "      <td>1</td>\n",
       "      <td>0</td>\n",
       "      <td>0</td>\n",
       "      <td>0</td>\n",
       "      <td>0</td>\n",
       "      <td>0</td>\n",
       "      <td>...</td>\n",
       "      <td>0</td>\n",
       "      <td>0</td>\n",
       "      <td>0</td>\n",
       "      <td>0</td>\n",
       "      <td>0</td>\n",
       "      <td>0</td>\n",
       "      <td>0</td>\n",
       "      <td>0</td>\n",
       "      <td>0</td>\n",
       "      <td>1</td>\n",
       "    </tr>\n",
       "    <tr>\n",
       "      <th>3</th>\n",
       "      <td>0</td>\n",
       "      <td>1</td>\n",
       "      <td>0</td>\n",
       "      <td>0</td>\n",
       "      <td>1</td>\n",
       "      <td>0</td>\n",
       "      <td>0</td>\n",
       "      <td>0</td>\n",
       "      <td>0</td>\n",
       "      <td>0</td>\n",
       "      <td>...</td>\n",
       "      <td>0</td>\n",
       "      <td>0</td>\n",
       "      <td>0</td>\n",
       "      <td>0</td>\n",
       "      <td>0</td>\n",
       "      <td>0</td>\n",
       "      <td>0</td>\n",
       "      <td>0</td>\n",
       "      <td>0</td>\n",
       "      <td>1</td>\n",
       "    </tr>\n",
       "    <tr>\n",
       "      <th>4</th>\n",
       "      <td>1</td>\n",
       "      <td>0</td>\n",
       "      <td>0</td>\n",
       "      <td>0</td>\n",
       "      <td>1</td>\n",
       "      <td>0</td>\n",
       "      <td>0</td>\n",
       "      <td>0</td>\n",
       "      <td>0</td>\n",
       "      <td>0</td>\n",
       "      <td>...</td>\n",
       "      <td>0</td>\n",
       "      <td>0</td>\n",
       "      <td>0</td>\n",
       "      <td>1</td>\n",
       "      <td>0</td>\n",
       "      <td>0</td>\n",
       "      <td>0</td>\n",
       "      <td>0</td>\n",
       "      <td>0</td>\n",
       "      <td>1</td>\n",
       "    </tr>\n",
       "  </tbody>\n",
       "</table>\n",
       "<p>5 rows × 26 columns</p>\n",
       "</div>"
      ],
      "text/plain": [
       "   HomePlanet_Earth  HomePlanet_Europa  HomePlanet_Mars  HomePlanet_Missing  \\\n",
       "0                 0                  1                0                   0   \n",
       "1                 1                  0                0                   0   \n",
       "2                 0                  1                0                   0   \n",
       "3                 0                  1                0                   0   \n",
       "4                 1                  0                0                   0   \n",
       "\n",
       "   CryoSleep_False  CryoSleep_True  CryoSleep_Missing  \\\n",
       "0                1               0                  0   \n",
       "1                1               0                  0   \n",
       "2                1               0                  0   \n",
       "3                1               0                  0   \n",
       "4                1               0                  0   \n",
       "\n",
       "   Destination_55 Cancri e  Destination_Missing  Destination_PSO J318.5-22  \\\n",
       "0                        0                    0                          0   \n",
       "1                        0                    0                          0   \n",
       "2                        0                    0                          0   \n",
       "3                        0                    0                          0   \n",
       "4                        0                    0                          0   \n",
       "\n",
       "   ...  Deck_C  Deck_D  Deck_E  Deck_F  Deck_G  Deck_Missing  Deck_T  \\\n",
       "0  ...       0       0       0       0       0             0       0   \n",
       "1  ...       0       0       0       1       0             0       0   \n",
       "2  ...       0       0       0       0       0             0       0   \n",
       "3  ...       0       0       0       0       0             0       0   \n",
       "4  ...       0       0       0       1       0             0       0   \n",
       "\n",
       "   Deck_side_Missing  Deck_side_P  Deck_side_S  \n",
       "0                  0            1            0  \n",
       "1                  0            0            1  \n",
       "2                  0            0            1  \n",
       "3                  0            0            1  \n",
       "4                  0            0            1  \n",
       "\n",
       "[5 rows x 26 columns]"
      ]
     },
     "execution_count": 49,
     "metadata": {},
     "output_type": "execute_result"
    }
   ],
   "source": [
    "df_cat.head()\n",
    "\n"
   ]
  },
  {
   "cell_type": "code",
   "execution_count": 50,
   "id": "3f86a003",
   "metadata": {
    "execution": {
     "iopub.execute_input": "2023-03-24T23:37:05.984400Z",
     "iopub.status.busy": "2023-03-24T23:37:05.983345Z",
     "iopub.status.idle": "2023-03-24T23:37:10.635408Z",
     "shell.execute_reply": "2023-03-24T23:37:10.633867Z"
    },
    "papermill": {
     "duration": 4.680323,
     "end_time": "2023-03-24T23:37:10.639994",
     "exception": false,
     "start_time": "2023-03-24T23:37:05.959671",
     "status": "completed"
    },
    "tags": []
   },
   "outputs": [
    {
     "data": {
      "text/plain": [
       "HomePlanet_Earth             0\n",
       "HomePlanet_Europa            0\n",
       "HomePlanet_Mars              0\n",
       "HomePlanet_Missing           0\n",
       "CryoSleep_False              0\n",
       "CryoSleep_True               0\n",
       "CryoSleep_Missing            0\n",
       "Destination_55 Cancri e      0\n",
       "Destination_Missing          0\n",
       "Destination_PSO J318.5-22    0\n",
       "Destination_TRAPPIST-1e      0\n",
       "VIP_False                    0\n",
       "VIP_True                     0\n",
       "VIP_Missing                  0\n",
       "Deck_A                       0\n",
       "Deck_B                       0\n",
       "Deck_C                       0\n",
       "Deck_D                       0\n",
       "Deck_E                       0\n",
       "Deck_F                       0\n",
       "Deck_G                       0\n",
       "Deck_Missing                 0\n",
       "Deck_T                       0\n",
       "Deck_side_Missing            0\n",
       "Deck_side_P                  0\n",
       "Deck_side_S                  0\n",
       "Age                          0\n",
       "RoomService                  0\n",
       "FoodCourt                    0\n",
       "ShoppingMall                 0\n",
       "Spa                          0\n",
       "VRDeck                       0\n",
       "Pass_group                   0\n",
       "Cab_num                      0\n",
       "Total_expenses               0\n",
       "Group_members                0\n",
       "Cabin_members                0\n",
       "Deck_transp_ratio            0\n",
       "Deck_side_transp_ratio       0\n",
       "dtype: int64"
      ]
     },
     "execution_count": 50,
     "metadata": {},
     "output_type": "execute_result"
    }
   ],
   "source": [
    "num_cols = list(df.select_dtypes(['int64', 'float64']).columns)\n",
    "\n",
    "# Concatenate with encoded categorical columns\n",
    "df = pd.concat([df_cat, df[num_cols]], axis=1)\n",
    "\n",
    "# Impute numericals\n",
    "it_imp = IterativeImputer()\n",
    "df = pd.DataFrame(it_imp.fit_transform(df), columns=df.columns)\n",
    "df.isna().sum()"
   ]
  },
  {
   "cell_type": "code",
   "execution_count": 51,
   "id": "9991e4c2",
   "metadata": {
    "execution": {
     "iopub.execute_input": "2023-03-24T23:37:10.736361Z",
     "iopub.status.busy": "2023-03-24T23:37:10.735983Z",
     "iopub.status.idle": "2023-03-24T23:37:10.750443Z",
     "shell.execute_reply": "2023-03-24T23:37:10.749330Z"
    },
    "papermill": {
     "duration": 0.056935,
     "end_time": "2023-03-24T23:37:10.753689",
     "exception": false,
     "start_time": "2023-03-24T23:37:10.696754",
     "status": "completed"
    },
    "tags": []
   },
   "outputs": [
    {
     "name": "stdout",
     "output_type": "stream",
     "text": [
      "<class 'pandas.core.frame.DataFrame'>\n",
      "RangeIndex: 12970 entries, 0 to 12969\n",
      "Data columns (total 39 columns):\n",
      " #   Column                     Non-Null Count  Dtype  \n",
      "---  ------                     --------------  -----  \n",
      " 0   HomePlanet_Earth           12970 non-null  float64\n",
      " 1   HomePlanet_Europa          12970 non-null  float64\n",
      " 2   HomePlanet_Mars            12970 non-null  float64\n",
      " 3   HomePlanet_Missing         12970 non-null  float64\n",
      " 4   CryoSleep_False            12970 non-null  float64\n",
      " 5   CryoSleep_True             12970 non-null  float64\n",
      " 6   CryoSleep_Missing          12970 non-null  float64\n",
      " 7   Destination_55 Cancri e    12970 non-null  float64\n",
      " 8   Destination_Missing        12970 non-null  float64\n",
      " 9   Destination_PSO J318.5-22  12970 non-null  float64\n",
      " 10  Destination_TRAPPIST-1e    12970 non-null  float64\n",
      " 11  VIP_False                  12970 non-null  float64\n",
      " 12  VIP_True                   12970 non-null  float64\n",
      " 13  VIP_Missing                12970 non-null  float64\n",
      " 14  Deck_A                     12970 non-null  float64\n",
      " 15  Deck_B                     12970 non-null  float64\n",
      " 16  Deck_C                     12970 non-null  float64\n",
      " 17  Deck_D                     12970 non-null  float64\n",
      " 18  Deck_E                     12970 non-null  float64\n",
      " 19  Deck_F                     12970 non-null  float64\n",
      " 20  Deck_G                     12970 non-null  float64\n",
      " 21  Deck_Missing               12970 non-null  float64\n",
      " 22  Deck_T                     12970 non-null  float64\n",
      " 23  Deck_side_Missing          12970 non-null  float64\n",
      " 24  Deck_side_P                12970 non-null  float64\n",
      " 25  Deck_side_S                12970 non-null  float64\n",
      " 26  Age                        12970 non-null  float64\n",
      " 27  RoomService                12970 non-null  float64\n",
      " 28  FoodCourt                  12970 non-null  float64\n",
      " 29  ShoppingMall               12970 non-null  float64\n",
      " 30  Spa                        12970 non-null  float64\n",
      " 31  VRDeck                     12970 non-null  float64\n",
      " 32  Pass_group                 12970 non-null  float64\n",
      " 33  Cab_num                    12970 non-null  float64\n",
      " 34  Total_expenses             12970 non-null  float64\n",
      " 35  Group_members              12970 non-null  float64\n",
      " 36  Cabin_members              12970 non-null  float64\n",
      " 37  Deck_transp_ratio          12970 non-null  float64\n",
      " 38  Deck_side_transp_ratio     12970 non-null  float64\n",
      "dtypes: float64(39)\n",
      "memory usage: 3.9 MB\n"
     ]
    }
   ],
   "source": [
    "df.info()"
   ]
  },
  {
   "cell_type": "code",
   "execution_count": 52,
   "id": "a7beaf66",
   "metadata": {
    "execution": {
     "iopub.execute_input": "2023-03-24T23:37:10.809989Z",
     "iopub.status.busy": "2023-03-24T23:37:10.809480Z",
     "iopub.status.idle": "2023-03-24T23:37:10.821746Z",
     "shell.execute_reply": "2023-03-24T23:37:10.820635Z"
    },
    "papermill": {
     "duration": 0.04806,
     "end_time": "2023-03-24T23:37:10.824017",
     "exception": false,
     "start_time": "2023-03-24T23:37:10.775957",
     "status": "completed"
    },
    "tags": []
   },
   "outputs": [],
   "source": [
    "X = df[:X_max_index]\n",
    "full_df = pd.concat([X, y], axis=1)\n",
    "full_df['Non_zero_expenses'] = full_df.loc[full_df.Total_expenses.gt(0), 'Total_expenses']"
   ]
  },
  {
   "cell_type": "code",
   "execution_count": null,
   "id": "86c6582e",
   "metadata": {
    "papermill": {
     "duration": 0.029717,
     "end_time": "2023-03-24T23:37:10.887476",
     "exception": false,
     "start_time": "2023-03-24T23:37:10.857759",
     "status": "completed"
    },
    "tags": []
   },
   "outputs": [],
   "source": []
  },
  {
   "cell_type": "code",
   "execution_count": 53,
   "id": "3baeeb1f",
   "metadata": {
    "execution": {
     "iopub.execute_input": "2023-03-24T23:37:10.933345Z",
     "iopub.status.busy": "2023-03-24T23:37:10.932919Z",
     "iopub.status.idle": "2023-03-24T23:37:10.940981Z",
     "shell.execute_reply": "2023-03-24T23:37:10.939619Z"
    },
    "papermill": {
     "duration": 0.033742,
     "end_time": "2023-03-24T23:37:10.943188",
     "exception": false,
     "start_time": "2023-03-24T23:37:10.909446",
     "status": "completed"
    },
    "tags": []
   },
   "outputs": [],
   "source": [
    "def transported_chance_by(feature, xticks=None, xlim=None):\n",
    "    transported = full_df[full_df.Transported == 1]\n",
    "    not_transported = full_df[full_df.Transported == 0]\n",
    "\n",
    "    plt.figure(figsize=(10, 5))\n",
    "\n",
    "    transported[feature].plot(kind='kde', label='transported')\n",
    "    not_transported[feature].plot(kind='kde', label='not_transported')\n",
    "    \n",
    "    plt.xlim(xlim)\n",
    "    plt.xticks(xticks)\n",
    "    plt.legend()\n",
    "    plt.grid()\n",
    "    plt.xlabel(feature)\n",
    "    plt.show()"
   ]
  },
  {
   "cell_type": "code",
   "execution_count": 54,
   "id": "7c2c033c",
   "metadata": {
    "execution": {
     "iopub.execute_input": "2023-03-24T23:37:10.989248Z",
     "iopub.status.busy": "2023-03-24T23:37:10.988858Z",
     "iopub.status.idle": "2023-03-24T23:37:11.441669Z",
     "shell.execute_reply": "2023-03-24T23:37:11.440437Z"
    },
    "papermill": {
     "duration": 0.47899,
     "end_time": "2023-03-24T23:37:11.444388",
     "exception": false,
     "start_time": "2023-03-24T23:37:10.965398",
     "status": "completed"
    },
    "tags": []
   },
   "outputs": [
    {
     "data": {
      "image/png": "[encoded data removed]",
      "text/plain": [
       "<Figure size 1000x500 with 1 Axes>"
      ]
     },
     "metadata": {},
     "output_type": "display_data"
    }
   ],
   "source": [
    "transported_chance_by('Age', np.arange(0, 81, 5), (0, 80))"
   ]
  },
  {
   "cell_type": "code",
   "execution_count": 55,
   "id": "691819c1",
   "metadata": {
    "execution": {
     "iopub.execute_input": "2023-03-24T23:37:11.492369Z",
     "iopub.status.busy": "2023-03-24T23:37:11.491908Z",
     "iopub.status.idle": "2023-03-24T23:37:11.501807Z",
     "shell.execute_reply": "2023-03-24T23:37:11.500958Z"
    },
    "papermill": {
     "duration": 0.036286,
     "end_time": "2023-03-24T23:37:11.503885",
     "exception": false,
     "start_time": "2023-03-24T23:37:11.467599",
     "status": "completed"
    },
    "tags": []
   },
   "outputs": [],
   "source": [
    "df['Age_group'] = pd.cut(x=df.Age, labels=[1, 3, 2],\n",
    "                         bins=[-1, 17, 43, df.Age.max()]).astype('float')"
   ]
  },
  {
   "cell_type": "code",
   "execution_count": 56,
   "id": "c698ca8b",
   "metadata": {
    "execution": {
     "iopub.execute_input": "2023-03-24T23:37:11.551701Z",
     "iopub.status.busy": "2023-03-24T23:37:11.551098Z",
     "iopub.status.idle": "2023-03-24T23:37:11.967821Z",
     "shell.execute_reply": "2023-03-24T23:37:11.966637Z"
    },
    "papermill": {
     "duration": 0.443293,
     "end_time": "2023-03-24T23:37:11.970437",
     "exception": false,
     "start_time": "2023-03-24T23:37:11.527144",
     "status": "completed"
    },
    "tags": []
   },
   "outputs": [
    {
     "data": {
      "image/png": "[encoded data removed]",
      "text/plain": [
       "<Figure size 1000x500 with 1 Axes>"
      ]
     },
     "metadata": {},
     "output_type": "display_data"
    }
   ],
   "source": [
    "transported_chance_by('Non_zero_expenses', np.arange(0, 9000, 500), (0, 9000))"
   ]
  },
  {
   "cell_type": "code",
   "execution_count": 57,
   "id": "9644a15e",
   "metadata": {
    "execution": {
     "iopub.execute_input": "2023-03-24T23:37:12.020006Z",
     "iopub.status.busy": "2023-03-24T23:37:12.019630Z",
     "iopub.status.idle": "2023-03-24T23:37:12.027228Z",
     "shell.execute_reply": "2023-03-24T23:37:12.026424Z"
    },
    "papermill": {
     "duration": 0.03493,
     "end_time": "2023-03-24T23:37:12.029497",
     "exception": false,
     "start_time": "2023-03-24T23:37:11.994567",
     "status": "completed"
    },
    "tags": []
   },
   "outputs": [],
   "source": [
    "# Create Total_expenses_group feature additionally separating 0 expenses group\n",
    "df['Total_expenses_group'] = pd.cut(x=df.Total_expenses, labels=[3, 1, 2],\n",
    "                         bins=[-1, 1, 2250, df.Total_expenses.max()]).astype('float')"
   ]
  },
  {
   "cell_type": "code",
   "execution_count": null,
   "id": "9a81ad7a",
   "metadata": {
    "papermill": {
     "duration": 0.023511,
     "end_time": "2023-03-24T23:37:12.076459",
     "exception": false,
     "start_time": "2023-03-24T23:37:12.052948",
     "status": "completed"
    },
    "tags": []
   },
   "outputs": [],
   "source": []
  },
  {
   "cell_type": "code",
   "execution_count": null,
   "id": "c4f6d67c",
   "metadata": {
    "papermill": {
     "duration": 0.023349,
     "end_time": "2023-03-24T23:37:12.123291",
     "exception": false,
     "start_time": "2023-03-24T23:37:12.099942",
     "status": "completed"
    },
    "tags": []
   },
   "outputs": [],
   "source": []
  },
  {
   "cell_type": "code",
   "execution_count": 58,
   "id": "7f3134c6",
   "metadata": {
    "execution": {
     "iopub.execute_input": "2023-03-24T23:37:12.172223Z",
     "iopub.status.busy": "2023-03-24T23:37:12.171503Z",
     "iopub.status.idle": "2023-03-24T23:37:12.615610Z",
     "shell.execute_reply": "2023-03-24T23:37:12.614828Z"
    },
    "papermill": {
     "duration": 0.471073,
     "end_time": "2023-03-24T23:37:12.617728",
     "exception": false,
     "start_time": "2023-03-24T23:37:12.146655",
     "status": "completed"
    },
    "tags": []
   },
   "outputs": [
    {
     "data": {
      "image/png": "[encoded data removed]",
      "text/plain": [
       "<Figure size 1000x500 with 1 Axes>"
      ]
     },
     "metadata": {},
     "output_type": "display_data"
    }
   ],
   "source": [
    "# Transported by Cab_num\n",
    "transported_chance_by('Cab_num', np.arange(0, 2000, 100), (0, 2000))"
   ]
  },
  {
   "cell_type": "code",
   "execution_count": 59,
   "id": "30d6367a",
   "metadata": {
    "execution": {
     "iopub.execute_input": "2023-03-24T23:37:12.669663Z",
     "iopub.status.busy": "2023-03-24T23:37:12.668941Z",
     "iopub.status.idle": "2023-03-24T23:37:12.676575Z",
     "shell.execute_reply": "2023-03-24T23:37:12.675848Z"
    },
    "papermill": {
     "duration": 0.035798,
     "end_time": "2023-03-24T23:37:12.678596",
     "exception": false,
     "start_time": "2023-03-24T23:37:12.642798",
     "status": "completed"
    },
    "tags": []
   },
   "outputs": [],
   "source": [
    "# Create Cab_group feature\n",
    "df['Cab_group'] = pd.cut(x=df.Cab_num, labels=[3, 2, 4, 1],\n",
    "                         bins=[-1, 300, 690, 1170, df.Cab_num.max()]).astype('float')"
   ]
  },
  {
   "cell_type": "code",
   "execution_count": 60,
   "id": "217e01db",
   "metadata": {
    "execution": {
     "iopub.execute_input": "2023-03-24T23:37:12.730775Z",
     "iopub.status.busy": "2023-03-24T23:37:12.730093Z",
     "iopub.status.idle": "2023-03-24T23:37:13.175808Z",
     "shell.execute_reply": "2023-03-24T23:37:13.174650Z"
    },
    "papermill": {
     "duration": 0.474895,
     "end_time": "2023-03-24T23:37:13.178136",
     "exception": false,
     "start_time": "2023-03-24T23:37:12.703241",
     "status": "completed"
    },
    "tags": []
   },
   "outputs": [
    {
     "data": {
      "image/png": "[encoded data removed]",
      "text/plain": [
       "<Figure size 1000x500 with 1 Axes>"
      ]
     },
     "metadata": {},
     "output_type": "display_data"
    }
   ],
   "source": [
    "# Transported by Pass_group\n",
    "transported_chance_by('Pass_group', np.arange(0, 10000, 500), (0, 10000))"
   ]
  },
  {
   "cell_type": "code",
   "execution_count": 61,
   "id": "ce251af9",
   "metadata": {
    "execution": {
     "iopub.execute_input": "2023-03-24T23:37:13.231863Z",
     "iopub.status.busy": "2023-03-24T23:37:13.231157Z",
     "iopub.status.idle": "2023-03-24T23:37:13.239997Z",
     "shell.execute_reply": "2023-03-24T23:37:13.238904Z"
    },
    "papermill": {
     "duration": 0.038149,
     "end_time": "2023-03-24T23:37:13.242415",
     "exception": false,
     "start_time": "2023-03-24T23:37:13.204266",
     "status": "completed"
    },
    "tags": []
   },
   "outputs": [],
   "source": [
    "# Create Pass_group_type feature\n",
    "df['Pass_group_type'] = pd.cut(x=df.Pass_group, labels=[2, 3, 1], \n",
    "                               bins=[-1, 3400, 7300, df.Pass_group.max()]).astype('float')"
   ]
  },
  {
   "cell_type": "code",
   "execution_count": 62,
   "id": "fe329fd2",
   "metadata": {
    "execution": {
     "iopub.execute_input": "2023-03-24T23:37:13.297072Z",
     "iopub.status.busy": "2023-03-24T23:37:13.296655Z",
     "iopub.status.idle": "2023-03-24T23:37:13.324302Z",
     "shell.execute_reply": "2023-03-24T23:37:13.323091Z"
    },
    "papermill": {
     "duration": 0.057796,
     "end_time": "2023-03-24T23:37:13.326874",
     "exception": false,
     "start_time": "2023-03-24T23:37:13.269078",
     "status": "completed"
    },
    "tags": []
   },
   "outputs": [],
   "source": [
    "# Apply np.log to normalize the skewed right data\n",
    "skewed_features = ['RoomService', 'FoodCourt', 'ShoppingMall', \n",
    "                   'Spa', 'VRDeck', 'Total_expenses']\n",
    "df[skewed_features] = df[skewed_features].apply(np.log1p)\n",
    "\n",
    "# Standardize \n",
    "std_scaler = StandardScaler()\n",
    "\n",
    "df_scaled = std_scaler.fit_transform(df)\n",
    "df = pd.DataFrame(df_scaled, columns=df.columns)"
   ]
  },
  {
   "cell_type": "code",
   "execution_count": 63,
   "id": "60251f12",
   "metadata": {
    "execution": {
     "iopub.execute_input": "2023-03-24T23:37:13.379906Z",
     "iopub.status.busy": "2023-03-24T23:37:13.379491Z",
     "iopub.status.idle": "2023-03-24T23:37:13.387005Z",
     "shell.execute_reply": "2023-03-24T23:37:13.385856Z"
    },
    "papermill": {
     "duration": 0.036378,
     "end_time": "2023-03-24T23:37:13.389039",
     "exception": false,
     "start_time": "2023-03-24T23:37:13.352661",
     "status": "completed"
    },
    "tags": []
   },
   "outputs": [],
   "source": [
    "# Drop columns not used for modeling\n",
    "col_drop = ['Cab_num', 'Pass_group']\n",
    "df = df.drop(col_drop, axis=1)"
   ]
  },
  {
   "cell_type": "code",
   "execution_count": 64,
   "id": "22014ace",
   "metadata": {
    "execution": {
     "iopub.execute_input": "2023-03-24T23:37:13.442221Z",
     "iopub.status.busy": "2023-03-24T23:37:13.441819Z",
     "iopub.status.idle": "2023-03-24T23:37:13.446975Z",
     "shell.execute_reply": "2023-03-24T23:37:13.445926Z"
    },
    "papermill": {
     "duration": 0.034209,
     "end_time": "2023-03-24T23:37:13.448976",
     "exception": false,
     "start_time": "2023-03-24T23:37:13.414767",
     "status": "completed"
    },
    "tags": []
   },
   "outputs": [],
   "source": [
    "X = df[:X_max_index]\n",
    "test_df = df[X_max_index:]"
   ]
  },
  {
   "cell_type": "code",
   "execution_count": 65,
   "id": "93e1c0f9",
   "metadata": {
    "execution": {
     "iopub.execute_input": "2023-03-24T23:37:13.503552Z",
     "iopub.status.busy": "2023-03-24T23:37:13.503146Z",
     "iopub.status.idle": "2023-03-24T23:37:13.512075Z",
     "shell.execute_reply": "2023-03-24T23:37:13.511038Z"
    },
    "papermill": {
     "duration": 0.039271,
     "end_time": "2023-03-24T23:37:13.514426",
     "exception": false,
     "start_time": "2023-03-24T23:37:13.475155",
     "status": "completed"
    },
    "tags": []
   },
   "outputs": [
    {
     "data": {
      "text/plain": [
       "HomePlanet_Earth            -1.084853\n",
       "HomePlanet_Europa            1.748407\n",
       "HomePlanet_Mars             -0.518849\n",
       "HomePlanet_Missing          -0.027778\n",
       "CryoSleep_False              0.756009\n",
       "CryoSleep_True              -0.738967\n",
       "CryoSleep_Missing           -0.102941\n",
       "Destination_55 Cancri e     -0.505656\n",
       "Destination_Missing         -0.146907\n",
       "Destination_PSO J318.5-22   -0.316951\n",
       "Destination_TRAPPIST-1e      0.679755\n",
       "VIP_False                   -5.649671\n",
       "VIP_True                     6.819762\n",
       "VIP_Missing                 -0.097042\n",
       "Deck_A                       5.969792\n",
       "Deck_B                      -0.310577\n",
       "Deck_C                      -0.304721\n",
       "Deck_D                      -0.242437\n",
       "Deck_E                      -0.337033\n",
       "Deck_F                      -0.696786\n",
       "Deck_G                      -0.641459\n",
       "Deck_Missing                -0.153614\n",
       "Deck_T                      -0.029135\n",
       "Deck_side_Missing           -0.153614\n",
       "Deck_side_P                 -0.970369\n",
       "Deck_side_S                  1.016168\n",
       "Age                          2.053681\n",
       "RoomService                  0.717242\n",
       "FoodCourt                    2.097404\n",
       "ShoppingMall                -0.643931\n",
       "Spa                          2.482588\n",
       "VRDeck                       0.765175\n",
       "Total_expenses               1.345745\n",
       "Group_members               -0.014569\n",
       "Cabin_members                0.178467\n",
       "Deck_transp_ratio           -0.059547\n",
       "Deck_side_transp_ratio       1.004490\n",
       "Age_group                   -0.637555\n",
       "Total_expenses_group        -0.016969\n",
       "Cab_group                    0.420550\n",
       "Pass_group_type             -0.276278\n",
       "Name: 2, dtype: float64"
      ]
     },
     "execution_count": 65,
     "metadata": {},
     "output_type": "execute_result"
    }
   ],
   "source": [
    "df.iloc[2]"
   ]
  },
  {
   "cell_type": "code",
   "execution_count": 66,
   "id": "7e0a2181",
   "metadata": {
    "execution": {
     "iopub.execute_input": "2023-03-24T23:37:13.569898Z",
     "iopub.status.busy": "2023-03-24T23:37:13.569474Z",
     "iopub.status.idle": "2023-03-24T23:37:14.089235Z",
     "shell.execute_reply": "2023-03-24T23:37:14.088101Z"
    },
    "papermill": {
     "duration": 0.550548,
     "end_time": "2023-03-24T23:37:14.091501",
     "exception": false,
     "start_time": "2023-03-24T23:37:13.540953",
     "status": "completed"
    },
    "tags": []
   },
   "outputs": [
    {
     "data": {
      "image/png": "[encoded data removed]",
      "text/plain": [
       "<Figure size 1000x500 with 1 Axes>"
      ]
     },
     "metadata": {},
     "output_type": "display_data"
    }
   ],
   "source": [
    "full_df = pd.concat([X, y], axis=1)\n",
    "\n",
    "correlation = full_df.corr()['Transported'].sort_values(ascending=False)\n",
    "\n",
    "# Correlation graph\n",
    "correlation[1:].plot(kind='bar', figsize=(10,5), title='Transported dependency')\n",
    "plt.show()"
   ]
  },
  {
   "cell_type": "code",
   "execution_count": 67,
   "id": "1db4436d",
   "metadata": {
    "execution": {
     "iopub.execute_input": "2023-03-24T23:37:14.148436Z",
     "iopub.status.busy": "2023-03-24T23:37:14.148019Z",
     "iopub.status.idle": "2023-03-24T23:37:14.153666Z",
     "shell.execute_reply": "2023-03-24T23:37:14.152607Z"
    },
    "papermill": {
     "duration": 0.036615,
     "end_time": "2023-03-24T23:37:14.155934",
     "exception": false,
     "start_time": "2023-03-24T23:37:14.119319",
     "status": "completed"
    },
    "tags": []
   },
   "outputs": [],
   "source": [
    "final_features = [\n",
    "    'HomePlanet_Earth', 'HomePlanet_Mars', 'HomePlanet_Missing', 'CryoSleep_True',\n",
    "    'Destination_PSO J318.5-22', 'Destination_TRAPPIST-1e', 'Deck_A', 'Deck_Missing',\n",
    "    'Deck_T', 'Deck_side_P', 'Age', 'RoomService', 'ShoppingMall', 'Spa', 'VRDeck',\n",
    "    'Total_expenses', 'Group_members', 'Deck_transp_ratio', 'Total_expenses_group', 'Cab_group']"
   ]
  },
  {
   "cell_type": "code",
   "execution_count": 68,
   "id": "0ec6c758",
   "metadata": {
    "execution": {
     "iopub.execute_input": "2023-03-24T23:37:14.213130Z",
     "iopub.status.busy": "2023-03-24T23:37:14.212718Z",
     "iopub.status.idle": "2023-03-24T23:37:14.217440Z",
     "shell.execute_reply": "2023-03-24T23:37:14.216641Z"
    },
    "papermill": {
     "duration": 0.036008,
     "end_time": "2023-03-24T23:37:14.219379",
     "exception": false,
     "start_time": "2023-03-24T23:37:14.183371",
     "status": "completed"
    },
    "tags": []
   },
   "outputs": [],
   "source": [
    "params =  {'depth': 6,\n",
    "           'iterations': 2000, \n",
    "           'learning_rate': 0.01, \n",
    "           'thread_count': -1, \n",
    "           'verbose': False}"
   ]
  },
  {
   "cell_type": "code",
   "execution_count": 69,
   "id": "6386be00",
   "metadata": {
    "execution": {
     "iopub.execute_input": "2023-03-24T23:37:14.275749Z",
     "iopub.status.busy": "2023-03-24T23:37:14.275328Z",
     "iopub.status.idle": "2023-03-24T23:38:03.306268Z",
     "shell.execute_reply": "2023-03-24T23:38:03.305419Z"
    },
    "papermill": {
     "duration": 49.0891,
     "end_time": "2023-03-24T23:38:03.335677",
     "exception": false,
     "start_time": "2023-03-24T23:37:14.246577",
     "status": "completed"
    },
    "tags": []
   },
   "outputs": [
    {
     "name": "stdout",
     "output_type": "stream",
     "text": [
      "count    5.000000\n",
      "mean     0.820547\n",
      "std      0.020048\n",
      "min      0.798160\n",
      "25%      0.808400\n",
      "50%      0.814261\n",
      "75%      0.834388\n",
      "max      0.847526\n",
      "dtype: float64\n",
      "\n",
      "                    Feature Id  Importances\n",
      "0           Deck_transp_ratio    14.877241\n",
      "1                         Spa    11.855024\n",
      "2              Total_expenses    11.818839\n",
      "3                      VRDeck    10.299987\n",
      "4            HomePlanet_Earth     8.353149\n",
      "5                 RoomService     7.879916\n",
      "6        Total_expenses_group     6.008547\n",
      "7                 Deck_side_P     5.461562\n",
      "8                   Cab_group     5.195473\n",
      "9                         Age     4.798363\n",
      "10            HomePlanet_Mars     3.859631\n",
      "11               ShoppingMall     2.883405\n",
      "12             CryoSleep_True     2.509545\n",
      "13    Destination_TRAPPIST-1e     2.097822\n",
      "14              Group_members     1.385488\n",
      "15  Destination_PSO J318.5-22     0.314012\n",
      "16                     Deck_A     0.266741\n",
      "17               Deck_Missing     0.129117\n",
      "18         HomePlanet_Missing     0.005937\n",
      "19                     Deck_T     0.000201\n"
     ]
    }
   ],
   "source": [
    "# Define and fit the final model\n",
    "cat_model = CatBoostClassifier(**params)\n",
    "cat_model.fit(X[final_features], y)\n",
    "\n",
    "# Check accuracy and features importance\n",
    "cat_rmses = cross_val_score(cat_model, X[final_features], y, cv=5)\n",
    "\n",
    "print(pd.Series(cat_rmses).describe())\n",
    "print('\\n', cat_model.get_feature_importance(prettified=True))"
   ]
  },
  {
   "cell_type": "code",
   "execution_count": 70,
   "id": "e5332a22",
   "metadata": {
    "execution": {
     "iopub.execute_input": "2023-03-24T23:38:03.391957Z",
     "iopub.status.busy": "2023-03-24T23:38:03.391224Z",
     "iopub.status.idle": "2023-03-24T23:38:03.409384Z",
     "shell.execute_reply": "2023-03-24T23:38:03.408490Z"
    },
    "papermill": {
     "duration": 0.048326,
     "end_time": "2023-03-24T23:38:03.411524",
     "exception": false,
     "start_time": "2023-03-24T23:38:03.363198",
     "status": "completed"
    },
    "tags": []
   },
   "outputs": [],
   "source": [
    "test_preds = cat_model.predict(test_df[final_features])\n",
    "\n",
    "# Save predictions in the format used for competition scoring\n",
    "output = pd.DataFrame({'PassengerId': test_pass_id,\n",
    "                       'Transported': test_preds.astype(bool)})\n"
   ]
  },
  {
   "cell_type": "code",
   "execution_count": 71,
   "id": "a669e84b",
   "metadata": {
    "execution": {
     "iopub.execute_input": "2023-03-24T23:38:03.466529Z",
     "iopub.status.busy": "2023-03-24T23:38:03.466161Z",
     "iopub.status.idle": "2023-03-24T23:38:03.478541Z",
     "shell.execute_reply": "2023-03-24T23:38:03.477557Z"
    },
    "papermill": {
     "duration": 0.042779,
     "end_time": "2023-03-24T23:38:03.481131",
     "exception": false,
     "start_time": "2023-03-24T23:38:03.438352",
     "status": "completed"
    },
    "tags": []
   },
   "outputs": [],
   "source": [
    "output.to_csv('submission.csv.',index=False)"
   ]
  },
  {
   "cell_type": "code",
   "execution_count": 72,
   "id": "625a9e05",
   "metadata": {
    "execution": {
     "iopub.execute_input": "2023-03-24T23:38:03.537413Z",
     "iopub.status.busy": "2023-03-24T23:38:03.537000Z",
     "iopub.status.idle": "2023-03-24T23:38:04.634329Z",
     "shell.execute_reply": "2023-03-24T23:38:04.633100Z"
    },
    "papermill": {
     "duration": 1.128739,
     "end_time": "2023-03-24T23:38:04.637324",
     "exception": false,
     "start_time": "2023-03-24T23:38:03.508585",
     "status": "completed"
    },
    "tags": []
   },
   "outputs": [
    {
     "name": "stdout",
     "output_type": "stream",
     "text": [
      "/bin/bash: /opt/conda/lib/libtinfo.so.6: no version information available (required by /bin/bash)\r\n",
      "__notebook__.ipynb  \u001b[0m\u001b[01;34mcatboost_info\u001b[0m/  submission.csv.\r\n"
     ]
    }
   ],
   "source": [
    "ls\n"
   ]
  },
  {
   "cell_type": "code",
   "execution_count": 73,
   "id": "93d1b9f7",
   "metadata": {
    "execution": {
     "iopub.execute_input": "2023-03-24T23:38:04.696503Z",
     "iopub.status.busy": "2023-03-24T23:38:04.696088Z",
     "iopub.status.idle": "2023-03-24T23:38:04.700927Z",
     "shell.execute_reply": "2023-03-24T23:38:04.699798Z"
    },
    "papermill": {
     "duration": 0.03724,
     "end_time": "2023-03-24T23:38:04.703220",
     "exception": false,
     "start_time": "2023-03-24T23:38:04.665980",
     "status": "completed"
    },
    "tags": []
   },
   "outputs": [],
   "source": [
    "#!pip install kaggle"
   ]
  },
  {
   "cell_type": "code",
   "execution_count": null,
   "id": "a2b27d06",
   "metadata": {
    "papermill": {
     "duration": 0.028463,
     "end_time": "2023-03-24T23:38:04.760003",
     "exception": false,
     "start_time": "2023-03-24T23:38:04.731540",
     "status": "completed"
    },
    "tags": []
   },
   "outputs": [],
   "source": []
  },
  {
   "cell_type": "code",
   "execution_count": 74,
   "id": "69b809dd",
   "metadata": {
    "execution": {
     "iopub.execute_input": "2023-03-24T23:38:04.822608Z",
     "iopub.status.busy": "2023-03-24T23:38:04.821397Z",
     "iopub.status.idle": "2023-03-24T23:38:04.826408Z",
     "shell.execute_reply": "2023-03-24T23:38:04.825113Z"
    },
    "papermill": {
     "duration": 0.038273,
     "end_time": "2023-03-24T23:38:04.829124",
     "exception": false,
     "start_time": "2023-03-24T23:38:04.790851",
     "status": "completed"
    },
    "tags": []
   },
   "outputs": [],
   "source": [
    "#!kaggle competitions submit -c Spaceship Titanic -f ./pred.csv -m \"My submission\"\n"
   ]
  },
  {
   "cell_type": "code",
   "execution_count": null,
   "id": "f3ee048a",
   "metadata": {
    "papermill": {
     "duration": 0.027694,
     "end_time": "2023-03-24T23:38:04.885963",
     "exception": false,
     "start_time": "2023-03-24T23:38:04.858269",
     "status": "completed"
    },
    "tags": []
   },
   "outputs": [],
   "source": []
  },
  {
   "cell_type": "code",
   "execution_count": null,
   "id": "e5b39b0d",
   "metadata": {
    "papermill": {
     "duration": 0.027426,
     "end_time": "2023-03-24T23:38:04.940957",
     "exception": false,
     "start_time": "2023-03-24T23:38:04.913531",
     "status": "completed"
    },
    "tags": []
   },
   "outputs": [],
   "source": []
  }
 ],
 "metadata": {
  "kernelspec": {
   "display_name": "Python 3",
   "language": "python",
   "name": "python3"
  },
  "language_info": {
   "codemirror_mode": {
    "name": "ipython",
    "version": 3
   },
   "file_extension": ".py",
   "mimetype": "text/x-python",
   "name": "python",
   "nbconvert_exporter": "python",
   "pygments_lexer": "ipython3",
   "version": "3.7.12"
  },
  "papermill": {
   "default_parameters": {},
   "duration": 75.684226,
   "end_time": "2023-03-24T23:38:05.890820",
   "environment_variables": {},
   "exception": null,
   "input_path": "__notebook__.ipynb",
   "output_path": "__notebook__.ipynb",
   "parameters": {},
   "start_time": "2023-03-24T23:36:50.206594",
   "version": "2.3.4"
  }
 },
 "nbformat": 4,
 "nbformat_minor": 5
}
